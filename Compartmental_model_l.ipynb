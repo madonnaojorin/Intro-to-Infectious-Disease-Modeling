{
  "nbformat": 4,
  "nbformat_minor": 0,
  "metadata": {
    "kernelspec": {
      "display_name": "R",
      "language": "R",
      "name": "ir"
    },
    "language_info": {
      "codemirror_mode": "r",
      "file_extension": ".r",
      "mimetype": "text/x-r-source",
      "name": "R",
      "pygments_lexer": "r",
      "version": "3.6.1"
    },
    "colab": {
      "name": "Compartmental_model_l.ipynb",
      "provenance": [],
      "collapsed_sections": [
        "vg8xOw6UZyat"
      ],
      "include_colab_link": true
    }
  },
  "cells": [
    {
      "cell_type": "markdown",
      "metadata": {
        "id": "view-in-github",
        "colab_type": "text"
      },
      "source": [
        "<a href=\"https://colab.research.google.com/github/madonnaojorin/Intro-to-Infectious-Disease-Modeling/blob/main/Compartmental_model_l.ipynb\" target=\"_parent\"><img src=\"https://colab.research.google.com/assets/colab-badge.svg\" alt=\"Open In Colab\"/></a>"
      ]
    },
    {
      "cell_type": "markdown",
      "metadata": {
        "id": "FU6I_nxGZyae"
      },
      "source": [
        "# Compartmental model "
      ]
    },
    {
      "cell_type": "markdown",
      "metadata": {
        "id": "G0rtjGEjZyal"
      },
      "source": [
        "### Review: what is SIR model?"
      ]
    },
    {
      "cell_type": "markdown",
      "metadata": {
        "id": "5jD-UOLeZyam"
      },
      "source": [
        "Let $S$, $I$ and $R$ represent the number of susceptible, infected, and recovered individuals within a population. Susceptibels become infected at a rate $\\beta I$ and infectious people recover at a rate $\\gamma$. "
      ]
    },
    {
      "cell_type": "markdown",
      "metadata": {
        "id": "701L55k9vmCn"
      },
      "source": [
        "![SIR.png](data:image/png;base64,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)"
      ]
    },
    {
      "cell_type": "markdown",
      "metadata": {
        "id": "YZp-TBHoZyan"
      },
      "source": [
        "A mathematical description of the above SIR model using differential equations are <br>\n",
        "\\begin{align}\n",
        "\\frac{dS}{dt} &= −\\beta SI\\\\\n",
        "\\frac{dI}{dt} &= \\beta SI − \\gamma I\\\\\n",
        "\\frac{dR}{dt} &= \\gamma I\\\\\n",
        "\\end{align}\n",
        "With the total population $N = S + I + R$."
      ]
    },
    {
      "cell_type": "markdown",
      "metadata": {
        "id": "ozIWYqU5Zyan"
      },
      "source": [
        "Notice here we are using mass-action transmission assumption. \n",
        "\n",
        "So let's think of COVID-19 epidemic.\n",
        "\n",
        "We assume the parameter values as follows: \n",
        "$R_0 = 2.2$, average pre-infectious period $= 5.2$ days, average duration of infectiousness = $7$ days.\n"
      ]
    },
    {
      "cell_type": "markdown",
      "metadata": {
        "id": "BPFqJDfoZyao"
      },
      "source": [
        "### Solving the system of ODE in R"
      ]
    },
    {
      "cell_type": "code",
      "metadata": {
        "id": "TspOSe4bZyap"
      },
      "source": [
        "install.packages(\"deSolve\")\n",
        "library(deSolve)"
      ],
      "execution_count": null,
      "outputs": []
    },
    {
      "cell_type": "markdown",
      "metadata": {
        "id": "uf5ylfQoZyap"
      },
      "source": [
        "#### (1) Writing the system of differential equations "
      ]
    },
    {
      "cell_type": "code",
      "metadata": {
        "id": "VvBWPRx6Zyaq"
      },
      "source": [
        "SIR <- function(time, state, parameters) {\n",
        "  with(as.list(c(state, parameters)), { \n",
        "    dS <- -beta * I *S\n",
        "    dI <-  beta * I * S -gamma * I \n",
        "    dR <-  gamma * I\n",
        "  return(list(c(dS, dI, dR))) })\n",
        "}"
      ],
      "execution_count": null,
      "outputs": []
    },
    {
      "cell_type": "markdown",
      "metadata": {
        "id": "s2m6peaKZyaq"
      },
      "source": [
        "#### (2) Defining parameter values"
      ]
    },
    {
      "cell_type": "code",
      "metadata": {
        "id": "INoECInnZyaq"
      },
      "source": [
        "# Decide the total population\n",
        "N = 100000\n",
        "\n",
        "(parameters_values <- c(\n",
        "  beta  = 0.3/N,    # infectious contact rate (/person/day)\n",
        "  gamma = 1/7       # recovery rate (/day)\n",
        "))"
      ],
      "execution_count": null,
      "outputs": []
    },
    {
      "cell_type": "markdown",
      "metadata": {
        "id": "OD3dGuI3Zyar"
      },
      "source": [
        "#### (3) Defining initial values "
      ]
    },
    {
      "cell_type": "code",
      "metadata": {
        "id": "Y31k5l41Zyar"
      },
      "source": [
        "(initial_values <- c(\n",
        "    S = N - 1,  # number of susceptibles at time = 0\n",
        "    I = 1,      # number of infectious at time = 0\n",
        "    R = 0       # number of recovered (and immune) at time = 0\n",
        "))"
      ],
      "execution_count": null,
      "outputs": []
    },
    {
      "cell_type": "markdown",
      "metadata": {
        "id": "486rg1zTZyar"
      },
      "source": [
        "#### (4) Defining time points"
      ]
    },
    {
      "cell_type": "code",
      "metadata": {
        "id": "Be5YsRj0Zyar"
      },
      "source": [
        "time_values <- seq(0, 180, by = 0.1) # days"
      ],
      "execution_count": null,
      "outputs": []
    },
    {
      "cell_type": "markdown",
      "metadata": {
        "id": "-pEobTSdZyar"
      },
      "source": [
        "#### (5) Numerically solve the SIR model"
      ]
    },
    {
      "cell_type": "markdown",
      "metadata": {
        "id": "972b3jT3Zyar"
      },
      "source": [
        "Now, we use the ode() function of the deSolve package to numerically solve our model:"
      ]
    },
    {
      "cell_type": "code",
      "metadata": {
        "id": "6S6NYWxbZyas"
      },
      "source": [
        "SIR_results <- ode(\n",
        "  y = initial_values,\n",
        "  times = time_values,\n",
        "  func = SIR,\n",
        "  parms = parameters_values \n",
        ")"
      ],
      "execution_count": null,
      "outputs": []
    },
    {
      "cell_type": "markdown",
      "metadata": {
        "id": "gcJQ34J2Zyas"
      },
      "source": [
        "Let's check the calculated values:"
      ]
    },
    {
      "cell_type": "code",
      "metadata": {
        "id": "RJ_h0mTeZyas"
      },
      "source": [
        "SIR_results"
      ],
      "execution_count": null,
      "outputs": []
    },
    {
      "cell_type": "markdown",
      "metadata": {
        "id": "6jsrgTSSZyas"
      },
      "source": [
        "Let's plot the results!"
      ]
    },
    {
      "cell_type": "code",
      "metadata": {
        "id": "YolWLsB2pB2S"
      },
      "source": [
        "plot(SIR_results)"
      ],
      "execution_count": null,
      "outputs": []
    },
    {
      "cell_type": "markdown",
      "metadata": {
        "id": "kRF9BFIFphql"
      },
      "source": [
        "This is the same way we plotted on June 2.\n",
        "\n",
        "Because we now have 3 equations instead of 1, we get 3 separate graphs.\n",
        "\n",
        "But what we want is 3 curves on a same plot. \n",
        "\n",
        "So we do the following:\n"
      ]
    },
    {
      "cell_type": "code",
      "metadata": {
        "id": "IbrTyLHfhJ13"
      },
      "source": [
        "plot(SIR_results[,\"time\"], SIR_results[,\"S\"], type=\"l\", col = \"red\", xlab = \"Time (days)\", ylab = \"Number of people\",\n",
        "ylim=c(0,max(SIR_results[,\"S\"],SIR_results[,\"I\"],SIR_results[,\"R\"])))\n",
        "lines(SIR_results[,\"time\"], SIR_results[,\"I\"], type = \"l\", col = \"blue\", lwd = 2)\n",
        "lines(SIR_results[,\"time\"], SIR_results[,\"R\"], type = \"l\", col = \"green\", lwd = 2)\n",
        "legend(\"right\", c(\"Susceptible\", \"Infectious\", \"Recovered\"), \n",
        "       col = c(\"red\", \"blue\", \"green\"), lty = 1, bty = \"n\")"
      ],
      "execution_count": null,
      "outputs": []
    },
    {
      "cell_type": "markdown",
      "metadata": {
        "id": "MgA4rkEYpv-B"
      },
      "source": [
        "This gives you what you wanted but you need to write \"SIR_results[,]\" many times.\n",
        "\n",
        "Writing a lot (copy and paste) is not great because it's tedious and also cause more error. \n",
        "\n",
        "That's why we change SIR_results to a data frame."
      ]
    },
    {
      "cell_type": "code",
      "metadata": {
        "id": "8_-wee2KZyat"
      },
      "source": [
        "SIR_plot <- data.frame(\"time\" = SIR_results[,\"time\"], \n",
        "                          \"S\" = SIR_results[,\"S\"],\n",
        "                          \"I\" = SIR_results[,\"I\"],\n",
        "                          \"R\" = SIR_results[,\"R\"])\n",
        "                          \n",
        "with(SIR_plot,\n",
        "     {plot(time, S, type = \"l\", col = \"red\", xlab = \"Time (days)\", ylab = \"Number of people\", lwd = 2,\n",
        "           xlim = c(0,max(time)), ylim = c(0,max(S,I,R)))\n",
        "      lines(time, I, type = \"l\", col = \"blue\", lwd = 2)\n",
        "      lines(time, R, type = \"l\", col = \"green\", lwd = 2)\n",
        "      legend(\"right\", c(\"Susceptible\", \"Infectious\", \"Recovered\"), \n",
        "       col = c(\"red\", \"blue\", \"green\"), lty = 1, bty = \"n\")\n",
        "      })\n",
        "\n",
        "# This code is the best because you can reuse by modifying a little. "
      ],
      "execution_count": null,
      "outputs": []
    },
    {
      "cell_type": "code",
      "metadata": {
        "id": "slVj9J39q9fA"
      },
      "source": [
        "# This is equivalent to\n",
        "plot(SIR_plot$time, SIR_plot$S, type = \"l\", col = \"red\", xlab = \"Time (days)\", ylab = \"Number of people\", lwd = 2,\n",
        "           xlim = c(0,max(SIR_plot$time)), ylim = c(0,max(SIR_plot$S,SIR_plot$I,SIR_plot$R)))\n",
        "lines(SIR_plot$time, SIR_plot$I, type = \"l\", col = \"blue\", lwd = 2)\n",
        "lines(SIR_plot$time, SIR_plot$R, type = \"l\", col = \"green\", lwd = 2)\n",
        "legend(\"right\", c(\"Susceptible\", \"Infectious\", \"Recovered\"), \n",
        "       col = c(\"red\", \"blue\", \"green\"), lty = 1, bty = \"n\")"
      ],
      "execution_count": null,
      "outputs": []
    },
    {
      "cell_type": "markdown",
      "metadata": {
        "id": "vg8xOw6UZyat"
      },
      "source": [
        "#### (6) What can we say looking at this graph?\n",
        "(a) Looking at the figure do you think $R_0$ is less than 1 or greater than 1? <br>\n",
        "(b) Calculate $R_0$ to verify your answer. <br>\n",
        "(c) What is the size of this epidemic? (The number doesn't have to be exact.)  <br>\n",
        "(d) Approximately what fraction of people got infected throughout the epidemic?"
      ]
    },
    {
      "cell_type": "markdown",
      "metadata": {
        "id": "v9gul19oZyat"
      },
      "source": [
        "#### Answers "
      ]
    },
    {
      "cell_type": "code",
      "metadata": {
        "id": "OHDTXax_Zyat"
      },
      "source": [
        "# (a)\n",
        "# Since there is epidemic happening (You see the blue curve), R_0 should be greater than 1."
      ],
      "execution_count": null,
      "outputs": []
    },
    {
      "cell_type": "code",
      "metadata": {
        "id": "BBhiPGvuZyat"
      },
      "source": [
        "# (b)\n",
        "# Beta/gamma\n",
        "0.3/(1/7)\n",
        "parameters_values[\"beta\"]*N/parameters_values[\"gamma\"]\n",
        "\n",
        "# Please take a look at Prof. Gumel's slides\n",
        "# beta(N) = beta*N\n",
        "# beta(N) = beta "
      ],
      "execution_count": null,
      "outputs": []
    },
    {
      "cell_type": "code",
      "metadata": {
        "id": "updT6e8cZyau"
      },
      "source": [
        "# (c)\n",
        "822001\n",
        "SIR_results[nrow(SIR_results),\"R\"]"
      ],
      "execution_count": null,
      "outputs": []
    },
    {
      "cell_type": "code",
      "metadata": {
        "id": "djh7tKcmZyau"
      },
      "source": [
        "# (d)\n",
        "ceiling(SIR_plot[nrow(SIR_plot),\"R\"]/N*100) # ceiling is to round up."
      ],
      "execution_count": null,
      "outputs": []
    },
    {
      "cell_type": "markdown",
      "metadata": {
        "id": "Ljt5upX9Zyau"
      },
      "source": [
        "#### (7) What will happen if we change parameter values?\n",
        "Remember that $\\beta$ is rate at which two specific individuals come into effective contact per unit time, and now we are assuming day as unit time, this means that you have 0.3 contacts with a specific individual per day. $\\gamma$ is recovery rate and it is obtained by $\\frac{1}{\\rm average\\ duration\\ of\\ infectiousness}$.\n",
        "Now, let's see what would happen if average duration of infectiousness is only 2 days, i.e., change $\\gamma = 2$ and run the model again."
      ]
    },
    {
      "cell_type": "code",
      "metadata": {
        "id": "5QCLGaSGZyau"
      },
      "source": [
        "(parameters_values <- c(\n",
        "  beta  = 0.3/N,    # infectious contact rate (/person/day)\n",
        "  gamma = 1/2       # recovery rate (/day)\n",
        "))\n",
        "\n",
        "SIR_results <- ode(\n",
        "  y = initial_values,\n",
        "  times = time_values,\n",
        "  func = SIR,\n",
        "  parms = parameters_values \n",
        ")\n",
        "\n",
        "SIR_plot <- data.frame(\"time\" = SIR_results[,\"time\"], \n",
        "                              \"S\" = SIR_results[,\"S\"],\n",
        "                              \"I\" = SIR_results[,\"I\"],\n",
        "                              \"R\" = SIR_results[,\"R\"])\n",
        "\n",
        "with(SIR_plot,\n",
        "     {plot(time, S, type = \"l\", col = \"red\", xlab = \"Time (days)\", ylab = \"Number of people\", lwd = 2,\n",
        "                 xlim = c(0,max(time)), ylim = c(0,max(S,I,R)))\n",
        "      lines(time, I, type = \"l\", col = \"blue\", lwd = 2)\n",
        "      lines(time, R, type = \"l\", col = \"green\", lwd = 2)\n",
        "      legend(\"right\", c(\"Susceptible\", \"Infectious\", \"Recovered\"), \n",
        "       col = c(\"red\", \"blue\", \"green\"), lty = 1, bty = \"n\", cex = 1, y.intersp=2)\n",
        "      })"
      ],
      "execution_count": null,
      "outputs": []
    },
    {
      "cell_type": "markdown",
      "metadata": {
        "id": "C8wsITutZyav"
      },
      "source": [
        "#### (8) What can we say looking at this graph?\n",
        "(a) Looking at the figure do you think $R_0$ is less than 1 or greater than 1?<br>\n",
        "(b) Please calculate $R_0$ to verify your answer. <br>\n",
        "(c) From this result, if you can produce a medicine that can control the length of infectious period, do you wnat to shorten or prolong?"
      ]
    },
    {
      "cell_type": "code",
      "metadata": {
        "id": "cQzVz89LZyav"
      },
      "source": [
        "# (a)\n",
        "# Since there is no epidemic, R_0 is less than 1. "
      ],
      "execution_count": null,
      "outputs": []
    },
    {
      "cell_type": "code",
      "metadata": {
        "id": "pd0OJ9qIZyav"
      },
      "source": [
        "# (b)\n",
        "0.6\n",
        "0.3/(1/2)\n",
        "(R0 = parameters_values[\"beta\"]/parameters_values[\"gamma\"]*N)"
      ],
      "execution_count": null,
      "outputs": []
    },
    {
      "cell_type": "code",
      "metadata": {
        "id": "pr8CK9sRZyav"
      },
      "source": [
        "# (c)\n",
        "# Shorter infectious period resulted in smaller R_0, \n",
        "# so you want to produce a medicine which shorten the infectious period \n",
        "# to decreace repoduction number (We want Rc < R_0 otherwise no point to introduce the control measure.)\n",
        "# Shorter infectious period produces less secondary infections."
      ],
      "execution_count": null,
      "outputs": []
    },
    {
      "cell_type": "markdown",
      "metadata": {
        "id": "s_d4t6fM2T-O"
      },
      "source": [
        "Final Size Equation for SIR model\n",
        "\n",
        "$R(\\infty)=1-exp(-R_0 R(\\infty))$\n",
        "\n",
        "$S(\\infty)=exp(-\\frac{\\beta}{\\gamma}[1-S(\\infty)])$"
      ]
    },
    {
      "cell_type": "markdown",
      "metadata": {
        "id": "xPJt0RjkZyaw"
      },
      "source": [
        "## SEIR model"
      ]
    },
    {
      "cell_type": "markdown",
      "metadata": {
        "id": "YXjCpfbQZyaw"
      },
      "source": [
        "Now, let's make it slightly more like COVID-19 epidemic by adding Exposed compartment."
      ]
    },
    {
      "cell_type": "markdown",
      "metadata": {
        "id": "0y6mLUuHwfyo"
      },
      "source": [
        "![SEIR.png](data:image/png;base64,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)"
      ]
    },
    {
      "cell_type": "markdown",
      "metadata": {
        "id": "RGJwuk_XZyaw"
      },
      "source": [
        "A mathematical description of the above SEIR model using differential equations are <br>\n",
        "\\begin{align}\n",
        "\\frac{dS}{dt} &= −\\beta SI\\\\\n",
        "\\frac{dE}{dt} &= \\beta SI − \\sigma E\\\\\n",
        "\\frac{dI}{dt} &= \\sigma E − \\gamma I\\\\\n",
        "\\frac{dR}{dt} &= \\gamma I\\\\\n",
        "\\end{align}\n",
        "With the total population $N = S + E + I + R$."
      ]
    },
    {
      "cell_type": "markdown",
      "metadata": {
        "id": "nmufGU_HZyaw"
      },
      "source": [
        "#### (1) Please modify the code below to implement SEIR model\n",
        "Remember, average pre-infectiuos period is 5.2 days. <br>\n",
        "Be careful with name of functions and parameters."
      ]
    },
    {
      "cell_type": "code",
      "metadata": {
        "id": "NuQDdpQWZyaw"
      },
      "source": [
        "# Let's first modify the function\n",
        "SEIR <- function(time, variables, parameters) {\n",
        "  with(as.list(c(variables, parameters)), {\n",
        "    dS <- -beta * I * S\n",
        "    dE <- beta * S * I - sigma * E\n",
        "    dI <-  sigma * E - gamma * I\n",
        "    dR <-  gamma * I\n",
        "    return(list(c(dS, dE, dI, dR)))\n",
        "  })\n",
        "}\n",
        "\n",
        "# Parameters: what else do we need? (Be careful with order.)\n",
        "(parameters_values2 <- c(\n",
        "  beta  = 0.3/N,    # infectious contact rate (/person/day)\n",
        "  sigma = 1/5.2,\n",
        "  gamma = 1/7       # recovery rate (/day)\n",
        "))\n",
        "\n",
        "# Population: let's start with 1 infected person with rest of them susceptible\n",
        "N = 10000 \n",
        "(initial_values2 <- c(\n",
        "    S = N - 1,  # number of susceptibles at time = 0\n",
        "    E = 0,\n",
        "    I = 1,      # number of infectious at time = 0\n",
        "    R = 0       # number of recovered (and immune) at time = 0\n",
        "))\n",
        "\n",
        "# Time: Time can be the same as SIR model \n",
        "time_values2 <- seq(0, 200, by = 0.1) # days\n",
        "\n",
        "# ODE function is the same as SIR\n",
        "SEIR_results <- ode(\n",
        "  y = initial_values2,\n",
        "  times = time_values2,\n",
        "  func = SEIR,\n",
        "  parms = parameters_values2 \n",
        ")\n",
        "\n",
        "# Let's plot!\n",
        "SEIR_plot <- data.frame(\"time\" = SEIR_results[,\"time\"], \n",
        "                              \"S\" = SEIR_results[,\"S\"],\n",
        "                              \"E\" = SEIR_results[,\"E\"],\n",
        "                              \"I\" = SEIR_results[,\"I\"],\n",
        "                              \"R\" = SEIR_results[,\"R\"])\n",
        "\n",
        "with(SEIR_plot,\n",
        "     {plot(time, S, type = \"l\", col = \"red\", xlab = \"Time (days)\", ylab = \"Number of people\", lwd = 2,\n",
        "                      xlim = c(0,max(time)), ylim = c(0,max(S,E,I,R)))\n",
        "      lines(time, E, type = \"l\", col = \"pink\", lwd = 2)\n",
        "      lines(time, I, type = \"l\", col = \"blue\", lwd = 2)\n",
        "      lines(time, R, type = \"l\", col = \"green\", lwd = 2)\n",
        "      legend(\"right\",c(\"Susceptible\", \"Exposed\", \"Infectious\", \"Recovered\"), \n",
        "       col = c(\"red\",\"pink\", \"blue\",\"green\"), lty = 1, bty = \"n\")\n",
        "      })"
      ],
      "execution_count": null,
      "outputs": []
    },
    {
      "cell_type": "markdown",
      "metadata": {
        "id": "AV7ouRTHZyax"
      },
      "source": [
        "#### (2) What can we say looking at the graph?\n",
        "(a) Looking at the figure do you think $R_0$ is less than 1 or greater than 1? <br>\n",
        "(b) Do you think $R_0$ would be the same or different from the $R_0$ we obtained from SIR model above? <br>\n",
        "(c) How about epidemic size? The same or different? (i.e., what happenes to the size of the epidemic as the pre-infectious period is increased/decreased?)<br>\n",
        "Run the model with different values of pre-infectious period ($\\sigma$) and verify your answer.<br>\n",
        "(d) How does this change affect the curves of the number of susceptible, new infectious individuals, and recovered individuals? \n",
        "\n",
        "##########################  SOLUTION ##############################<br>\n",
        "(a) $R_0$ must be greater than 1 for epidemic to happen. <br>\n",
        "(b) Because $\\sigma$ doesn't affect $R_0$, $R_0$ must be the same as the SIR model.<br>\n",
        "(c) The duration of the pre-infectious period does not affect the epidemic size;<br>\n",
        "this is what you would expect since the pre-infectious period has no effect on the infectiousness of each person and therefore, <br>the epidemic would exhaust the same proportion of susceptibles in the population.<br>\n",
        "(d) A long pre-infectious period results in a longer flatter epidemic, as compared with that resulting from a short pre-infectious period."
      ]
    },
    {
      "cell_type": "code",
      "metadata": {
        "id": "MCFJvtHQZyax"
      },
      "source": [
        "# (a)\n",
        "parameters_values2[\"beta\"]/parameters_values2[\"gamma\"]*N "
      ],
      "execution_count": null,
      "outputs": []
    },
    {
      "cell_type": "code",
      "metadata": {
        "id": "bvZemUOQZyax"
      },
      "source": [
        "# (b)\n",
        "#"
      ],
      "execution_count": null,
      "outputs": []
    },
    {
      "cell_type": "code",
      "metadata": {
        "id": "BJ0jNhEXZyax"
      },
      "source": [
        "# (c)\n",
        "SEIR_plot[nrow(SEIR_plot),\"R\"]\n",
        "ceiling(SEIR_plot[nrow(SEIR_plot),\"R\"]/N*100)"
      ],
      "execution_count": null,
      "outputs": []
    },
    {
      "cell_type": "code",
      "metadata": {
        "id": "Ph0AfCUxZyax"
      },
      "source": [
        "# (d)\n",
        "#"
      ],
      "execution_count": null,
      "outputs": []
    },
    {
      "cell_type": "markdown",
      "metadata": {
        "id": "KWHVaeXeZya0"
      },
      "source": [
        "## Summary for SIR and SEIR model"
      ]
    },
    {
      "cell_type": "markdown",
      "metadata": {
        "id": "_NQaK3GjZya0"
      },
      "source": [
        "We have observed that SIR model and SEIR model share the same $R_0$ and hence the same final epidemic size.<br>\n",
        "In other words, if the pre-infectious period $\\sigma$ for SEIR model is 0 then that is indeed SIR model. <br> \n",
        "So, pre-infectious period is causing delay.<br>\n",
        "Let's summarize our results by running the code with several pre-infectious values. "
      ]
    },
    {
      "cell_type": "code",
      "metadata": {
        "id": "E9v8EqxqZya0"
      },
      "source": [
        "#library(deSolve)\n",
        "# System of ODEs\n",
        "SIR <- function(time, variables, parameters) {\n",
        "  with(as.list(c(variables, parameters)), { \n",
        "    dS <- -beta * S * I                    \n",
        "    dI <-  beta * S * I - gamma * I\n",
        "    dR <-  gamma * I\n",
        "    return(list(c(dS, dI, dR)))             \n",
        "  })\n",
        "}\n",
        "\n",
        "# Parameters\n",
        "parameters_values <- c(\n",
        "  beta  = 0.3/N,    # infectious contact rate (/person/day)\n",
        "  gamma = 1/7    # recovery rate (/day)\n",
        ")\n",
        "\n",
        "# Population\n",
        "N = 10000 \n",
        "initial_values <- c(\n",
        "    S = N - 1,  # number of susceptibles at time = 0\n",
        "    I = 1,      # number of infectious at time = 0\n",
        "    R = 0       # number of recovered (and immune) at time = 0\n",
        ")\n",
        "\n",
        "# Time\n",
        "days = 365\n",
        "time_values <- seq(0, days, by = 0.1) # days\n",
        "\n",
        "# ODE solver\n",
        "SIR_results <- ode(\n",
        "  y = initial_values,\n",
        "  times = time_values,\n",
        "  func = SIR,\n",
        "  parms = parameters_values \n",
        ")\n",
        "\n",
        "# Modify data format\n",
        "SIR_plot <- data.frame(\"time\" = SIR_results[,\"time\"], \n",
        "                              \"S\" = SIR_results[,\"S\"],\n",
        "                              \"I\" = SIR_results[,\"I\"],\n",
        "                              \"R\" = SIR_results[,\"R\"])\n",
        "\n",
        "# System of ODE functions\n",
        "SEIR <- function(time, variables, parameters) {\n",
        "  with(as.list(c(variables, parameters)), {\n",
        "    dS <- -beta * S * I\n",
        "    dE <-  beta * S * I - sigma * E\n",
        "    dI <-  sigma * E - gamma * I\n",
        "    dR <-  gamma * I\n",
        "    return(list(c(dS, dE, dI, dR)))\n",
        "  })\n",
        "}\n",
        "# Population\n",
        "N = 10000 \n",
        "initial_values <- c(\n",
        "  S = N - 1,  # number of susceptibles at time = 0\n",
        "  E = 0,      # number of exposed at time = 0\n",
        "  I = 1,      # number of infectious at time = 0\n",
        "  R = 0       # number of recovered (and immune) at time = 0\n",
        ")\n",
        "\n",
        "# Time\n",
        "time_values <- seq(0, days, by = 0.1) # days\n",
        "\n",
        "# Parameters for SEIR model\n",
        "pre_infectious_period = c(0.00000001, 1, 5, 7, 14) # days, the first element is approximately 0\n",
        "parameter <- list()\n",
        "for (i in 1:5){\n",
        "  sigma = 1/pre_infectious_period[i]\n",
        "  (parameter[[i]] <- c(\n",
        "    beta  = 0.3/N,    # infectious contact rate (/person/day)\n",
        "    sigma = sigma,    # incubation period\n",
        "    gamma = 1/7       # recovery rate (/day)\n",
        "  ))\n",
        "}\n",
        "\n",
        "# ODE solver for SEIR model\n",
        "SEIR_plot <- list()\n",
        "for (k in 1:5){\n",
        "  SEIR_results <- ode(\n",
        "    y = initial_values,\n",
        "    times = time_values,\n",
        "    func = SEIR,\n",
        "    parms = parameter[[k]]\n",
        "  )\n",
        "  SEIR_plot[[k]] <- data.frame(\"time\" = SEIR_results[,\"time\"], \n",
        "                               \"S\" = SEIR_results[,\"S\"],\n",
        "                               \"E\" = SEIR_results[,\"E\"],\n",
        "                               \"I\" = SEIR_results[,\"I\"],\n",
        "                               \"R\" = SEIR_results[,\"R\"])\n",
        "}\n",
        "\n",
        "Ymax = max(SIR_plot$I)+500\n",
        "# PLot infected curves \n",
        "plot(SIR_plot$time, SIR_plot$I, lty = \"solid\", col=rgb(1, 0, 0, alpha=0.1), xlab = \"Time (days)\", ylab = \"Number of people\", lwd = 3,\n",
        "                      xlim = c(0,days), ylim = c(0,Ymax))\n",
        "lines(SEIR_plot[[1]]$time, SEIR_plot[[1]]$I, lty = \"solid\", col = \"black\", lwd = 3,\n",
        "                      xlim = c(0,days), ylim = c(0,Ymax))\n",
        "lines(SEIR_plot[[2]]$time, SEIR_plot[[2]]$I, lty = \"solid\", col = rainbow(5)[2], lwd = 3,\n",
        "                      xlim = c(0,days), ylim = c(0,Ymax))\n",
        "lines(SEIR_plot[[3]]$time, SEIR_plot[[3]]$I, lty = \"solid\", col = rainbow(5)[3], lwd = 3,\n",
        "                      xlim = c(0,days), ylim = c(0,Ymax))\n",
        "lines(SEIR_plot[[4]]$time, SEIR_plot[[4]]$I, lty = \"solid\", col = rainbow(5)[4], lwd = 3,\n",
        "                      xlim = c(0,days), ylim = c(0,Ymax))\n",
        "lines(SEIR_plot[[5]]$time, SEIR_plot[[5]]$I, lty = \"solid\", col = rainbow(5)[5], lwd = 3,\n",
        "                      xlim = c(0,days), ylim = c(0,Ymax))\n",
        "legend(\"topright\",c(\"SIR model\", \"SEIR pre infectious period = 0\", \"SEIR pre infectious period = 1\", \"SEIR pre infectious period = 5\", \"SEIR pre infectious period = 7\", \"SEIR pre infectious period = 14\"), \n",
        "       col = c(\"red\",\"black\",rainbow(5)[2],rainbow(5)[3],rainbow(5)[4],rainbow(5)[5]), lty = 1, lwd = 5, bty = \"n\", cex = 1, y.intersp=2)\n",
        "title(\"Infected\")"
      ],
      "execution_count": null,
      "outputs": []
    },
    {
      "cell_type": "markdown",
      "metadata": {
        "id": "Lq0CeFYLZya1"
      },
      "source": [
        "## Incorporate vaccination"
      ]
    },
    {
      "cell_type": "markdown",
      "metadata": {
        "id": "2kXPQrmhZya1"
      },
      "source": [
        "We have explored a model which can describe a covid-19 epidemic with $\\beta = 0.3$, $\\sigma = 1/6.4$, $\\gamma = 1/7$. <br> \n",
        "Having been staying at home all we want is..... vaccine, right? <br>\n",
        "So, let's incorporate vaccine into our SEIR model.\n",
        "To avoid confusion, here we use SEIV (V stands for Vaccine; V compartment is for people who are recovered and also vaccinated) model to distinguish from SEIR model which is without vaccine (only recovered)."
      ]
    },
    {
      "cell_type": "markdown",
      "metadata": {
        "id": "MUgz2motZya1"
      },
      "source": [
        "A mathematical description of the above SEIV model using differential equations are <br>\n",
        "\\begin{align}\n",
        "\\frac{dS}{dt} &= −\\beta SI - \\nu S\\\\\n",
        "\\frac{dE}{dt} &= \\beta SI − \\sigma E\\\\\n",
        "\\frac{dI}{dt} &= \\sigma E − \\gamma I\\\\\n",
        "\\frac{dV}{dt} &= \\gamma I + \\nu S\n",
        "\\end{align}\n",
        "With the total population $N = S + E + I + V$."
      ]
    },
    {
      "cell_type": "markdown",
      "metadata": {
        "id": "gzBH6abZZya1"
      },
      "source": [
        "#### (1) Please modify the code we have seen to incorporate vaccination into SEIR model\n",
        "Let's assume vaccination rate $\\nu = 0.0001$ (0.0001 fraction vaccinated/day)."
      ]
    },
    {
      "cell_type": "code",
      "metadata": {
        "id": "w3slnRUGZya1"
      },
      "source": [
        "# Let's first modify the function\n",
        "SEIR <- function(time, variables, parameters) {\n",
        "  with(as.list(c(variables, parameters)), {\n",
        "    dS <- -beta * I * S\n",
        "    dE <-  beta * I * S - sigma * E\n",
        "    dI <-  sigma * E - gamma * I\n",
        "    dR <-  gamma * I\n",
        "    return(list(c(dS, dE, dI, dR)))\n",
        "  })\n",
        "}\n",
        "\n",
        "# Population: let's start with 1 infected person with rest of them susceptible\n",
        "N = 10000 \n",
        "(initial_values2 <- c(\n",
        "    S = N - 1,  # number of susceptibles at time = 0\n",
        "    E = 0,      # number of exposed at time = 0\n",
        "    I = 1,      # number of infectious at time = 0\n",
        "    R = 0       # number of recovered (and immune) at time = 0\n",
        "))\n",
        "\n",
        "# Parameters: what else do we need? (Be careful with order.)\n",
        "(parameters_values2 <- c(\n",
        "  beta  = 0.3/N,      # infectious contact rate (/person/day)\n",
        "  sigma = 1/6.4,        # the rate at which individuals become infectious (/day)\n",
        "  gamma = 1/7         # recovery rate (/day)\n",
        "))\n",
        "\n",
        "# Time: Time can be the same as SIR model \n",
        "time_values2 <- seq(0, 365, by = 0.1) # days\n",
        "\n",
        "# ODE function is the same as SIR\n",
        "SEIR_results <- ode(\n",
        "  y = initial_values2,\n",
        "  times = time_values2,\n",
        "  func = SEIR,\n",
        "  parms = parameters_values2 \n",
        ")\n",
        "\n",
        "# Let's plot!\n",
        "SEIR_plot <- data.frame(\"time\" = SEIR_results[,\"time\"], \n",
        "                              \"S\" = SEIR_results[,\"S\"],\n",
        "                              \"E\" = SEIR_results[,\"E\"],\n",
        "                              \"I\" = SEIR_results[,\"I\"],\n",
        "                              \"R\" = SEIR_results[,\"R\"])\n",
        "with(SEIR_plot,\n",
        "     {plot(time, S, type = \"l\", col = \"red\", xlab = \"Time (days)\", ylab = \"Number of people\", lwd = 3,\n",
        "                      xlim = c(0,max(time)), ylim = c(0,max(S,E,I,R)))\n",
        "      lines(time, E, type = \"l\", col = \"pink\", lwd = 3)\n",
        "      lines(time, I, type = \"l\", col = \"blue\", lwd = 3)\n",
        "      lines(time, R, type = \"l\", col = \"green\", lwd = 3)\n",
        "      legend(\"right\",c(\"Susceptible\", \"Exposed\", \"Infectious\", \"Recovered\"), \n",
        "       col = c(\"red\",\"pink\",\"blue\",\"green\"), lty = 1, bty = \"n\", cex = 1, y.intersp=2)\n",
        "      })"
      ],
      "execution_count": null,
      "outputs": []
    },
    {
      "cell_type": "markdown",
      "metadata": {
        "id": "3caS8ExcZya2"
      },
      "source": [
        "#### (2) What can we say looking at the graph?\n",
        "(a) Do you think $R_c$ (since this is a reproduction number with a control measure, we call it as $R_c$ instead of $R_0$) would be the same or different from the $R_0$ we obtained from SEIR model above? <br>\n",
        "(b) How about epidemic size? The same or different? (i.e., what happenes to the size of the epidemic as vaccination rate is increased/decreased?)<br>\n"
      ]
    },
    {
      "cell_type": "code",
      "metadata": {
        "id": "NqQ_0--2Zya2"
      },
      "source": [
        "# (a)\n",
        "#  R_c should be less than R_0"
      ],
      "execution_count": null,
      "outputs": []
    },
    {
      "cell_type": "code",
      "metadata": {
        "id": "wYwjEeeBZya3"
      },
      "source": [
        "# (b)\n",
        "# Epidemic size is smaller"
      ],
      "execution_count": null,
      "outputs": []
    },
    {
      "cell_type": "markdown",
      "metadata": {
        "id": "3kkndofIZya3"
      },
      "source": [
        "I hope now you rediscovered the importance of control measures such as vaccine or NPI. "
      ]
    },
    {
      "cell_type": "markdown",
      "metadata": {
        "id": "I7KjjFrGZya3"
      },
      "source": [
        "**References**<br>\n",
        "Li Q, Guan X, Wu P, et al. Early transmission dynamics in Wuhan, China, of novel coronavirus-infected pneumonia. N Engl J Med. 2020;382(13):1199–1207.\n",
        "\n",
        "Wölfel R, Corman VM, Guggemos W, et al. Virological assessment of hospitalized patients with COVID-2019. Nature 581, 465–469 (2020).\n",
        "\n"
      ]
    }
  ]
}