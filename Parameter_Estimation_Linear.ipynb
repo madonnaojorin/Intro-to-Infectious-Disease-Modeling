{
  "nbformat": 4,
  "nbformat_minor": 0,
  "metadata": {
    "colab": {
      "name": "Parameter_Estimation_Linear.ipynb",
      "provenance": [],
      "collapsed_sections": [
        "9Ns-XPt2gV4Q",
        "wVJi7-G6i8T_",
        "aB8tLUAFl061",
        "wIx7KbJG_zpY"
      ],
      "authorship_tag": "ABX9TyNFpbEDR9Cm2TXQJUHQKlAV",
      "include_colab_link": true
    },
    "kernelspec": {
      "name": "python3",
      "display_name": "Python 3"
    },
    "language_info": {
      "name": "python"
    }
  },
  "cells": [
    {
      "cell_type": "markdown",
      "metadata": {
        "id": "view-in-github",
        "colab_type": "text"
      },
      "source": [
        "<a href=\"https://colab.research.google.com/github/madonnaojorin/Intro_to_MathBio/blob/main/Parameter_Estimation_Linear.ipynb\" target=\"_parent\"><img src=\"https://colab.research.google.com/assets/colab-badge.svg\" alt=\"Open In Colab\"/></a>"
      ]
    },
    {
      "cell_type": "markdown",
      "source": [
        "#Data and the model"
      ],
      "metadata": {
        "id": "-dGU7tBDVAzf"
      }
    },
    {
      "cell_type": "markdown",
      "source": [
        "Consider the US population (in millions) for eight different years.\n",
        "* $x = 0$ represents the year 1790 with the population $y = 3.9$.\n",
        "* We want to ”predict” the population in 1880 ($x=100$).\n",
        "* Find the ”best fit” model for this data points.\n",
        "\n"
      ],
      "metadata": {
        "id": "YW0qWQv4VafQ"
      }
    },
    {
      "cell_type": "code",
      "source": [
        "import numpy as np\n",
        "import matplotlib.pyplot as plt\n",
        "import random\n",
        "\n",
        "Population = [3.9,5.3,7.2,9.6,12.9,17.1,23.2,31.4]\n",
        "Year = [0,10,20,30,40,50,60,70]\n",
        "plt.scatter(Year, Population)\n",
        "plt.xticks(Year, [1790,1800,1810,1820,1830,1840,1850,1860])\n",
        "plt.xlabel('Year')\n",
        "plt.ylabel('Population (millions)')"
      ],
      "metadata": {
        "colab": {
          "base_uri": "https://localhost:8080/",
          "height": 296
        },
        "id": "damb7wQrVRJO",
        "outputId": "d524ca7f-1f4d-4840-9836-6e6eaca7a184"
      },
      "execution_count": 2,
      "outputs": [
        {
          "output_type": "execute_result",
          "data": {
            "text/plain": [
              "Text(0, 0.5, 'Population (millions)')"
            ]
          },
          "metadata": {},
          "execution_count": 2
        },
        {
          "output_type": "display_data",
          "data": {
            "text/plain": [
              "<Figure size 432x288 with 1 Axes>"
            ],
            "image/png": "[encoded data removed]"
          },
          "metadata": {
            "needs_background": "light"
          }
        }
      ]
    },
    {
      "cell_type": "markdown",
      "source": [
        "We will be looking at a **second-degree polynomial model**, also known as a quadratic equation:\n",
        "$$ax^2+bx+c=0$$ \n",
        "or\n",
        "$$y=\\beta_0+\\beta_1x+\\beta_2 x^2$$\n"
      ],
      "metadata": {
        "id": "BsL4Lt48VGr1"
      }
    },
    {
      "cell_type": "markdown",
      "source": [
        "Using the built-in function, we get the following \"best-fit\" values for the parameter set. Our goal is to implement Gradient Descent from scratch to validate the values."
      ],
      "metadata": {
        "id": "H3l02fsVYMNk"
      }
    },
    {
      "cell_type": "code",
      "source": [
        "coefficients = np.polyfit(Year, Population, deg=2)\n",
        "poly = np.poly1d(coefficients)\n",
        "new_x = np.linspace(Year[0], Year[-1])\n",
        "new_y = poly(new_x)\n",
        "plt.plot(Year, Population,\"o\",new_x,new_y)\n",
        "plt.xticks(Year, [1790,1800,1810,1820,1830,1840,1850,1860])\n",
        "plt.xlabel('Year')\n",
        "plt.ylabel('Population (millions)')\n",
        "poly"
      ],
      "metadata": {
        "colab": {
          "base_uri": "https://localhost:8080/",
          "height": 296
        },
        "id": "nLF8kF5_YgWf",
        "outputId": "2a0942b3-d12f-43f5-c2d0-5b67d70dbea0"
      },
      "execution_count": 3,
      "outputs": [
        {
          "output_type": "execute_result",
          "data": {
            "text/plain": [
              "poly1d([ 5.36904762e-03, -8.33333333e-04,  4.45833333e+00])"
            ]
          },
          "metadata": {},
          "execution_count": 3
        },
        {
          "output_type": "display_data",
          "data": {
            "text/plain": [
              "<Figure size 432x288 with 1 Axes>"
            ],
            "image/png": "[encoded data removed]"
          },
          "metadata": {
            "needs_background": "light"
          }
        }
      ]
    },
    {
      "cell_type": "markdown",
      "source": [
        "The best-fit parameter values are:\n",
        "$ \\beta_0= 4.46, \\beta_1=-0.00083, \\beta_2=0.0054$."
      ],
      "metadata": {
        "id": "NvYROhKoaY9o"
      }
    },
    {
      "cell_type": "markdown",
      "source": [
        "#Goal of Gradient Descent — First Steps"
      ],
      "metadata": {
        "id": "NypC_47lU3zy"
      }
    },
    {
      "cell_type": "markdown",
      "source": [
        "The goal of gradient descent is to minimize the error of a model’s prediction, relative to the original data.\n",
        "\n",
        "The relationship between the independent variable $x$ (Year) and the dependent variable $y$ (Population) is modeled as a second degree polynomial in $x$. Simply put, the coefficients of our second degree polynomial $\\beta_0, \\beta_1$ and $\\beta_2$ will be estimated, evaluated and altered until we can accurately fit a line to the input $x$ data. Gradient descent is the optimization step in this process that alters and improves on the values of these coefficients.\n",
        "\n"
      ],
      "metadata": {
        "id": "2eDbWnVgUuIs"
      }
    },
    {
      "cell_type": "markdown",
      "source": [
        "Next, we need an evaluation function for a second degree polynomial, which, given a set of coefficients and a given input $𝑥$ returns the corresponding $𝑦$:"
      ],
      "metadata": {
        "id": "kb3JP9evbrsN"
      }
    },
    {
      "cell_type": "code",
      "execution_count": 4,
      "metadata": {
        "id": "9otawuoqOw_h"
      },
      "outputs": [],
      "source": [
        "def eval_2nd_degree(coeffs, x):\n",
        "    a = (coeffs[0]*(x*x))\n",
        "    b = coeffs[1]*x\n",
        "    c = coeffs[2]\n",
        "    y = a+b+c\n",
        "    return y"
      ]
    },
    {
      "cell_type": "markdown",
      "source": [
        "Let's see the current estimate for 1800 ($x=10$), which should be $y=5.3$ millions.\n",
        "\n",
        "\n"
      ],
      "metadata": {
        "id": "gE2M5Z1BcHZs"
      }
    },
    {
      "cell_type": "markdown",
      "source": [
        "We will start by choosing coefficients for a second degree polynomial equation:\n"
      ],
      "metadata": {
        "id": "7ZFtrcF2bf9k"
      }
    },
    {
      "cell_type": "code",
      "source": [
        "#coeffs = [5.36904762e-03, -8.33333333e-04,  4.45833333]\n",
        "coeffs = [0.001,-0.001,4.5]"
      ],
      "metadata": {
        "id": "L-OgjtjCbsOG"
      },
      "execution_count": 77,
      "outputs": []
    },
    {
      "cell_type": "code",
      "source": [
        "x=10\n",
        "eval_2nd_degree(coeffs, x)"
      ],
      "metadata": {
        "colab": {
          "base_uri": "https://localhost:8080/"
        },
        "id": "6d-8Sc7mPAim",
        "outputId": "b01bde19-a337-431b-de7c-2537b7cc6ee3"
      },
      "execution_count": 78,
      "outputs": [
        {
          "output_type": "execute_result",
          "data": {
            "text/plain": [
              "4.59"
            ]
          },
          "metadata": {},
          "execution_count": 78
        }
      ]
    },
    {
      "cell_type": "markdown",
      "source": [
        "So, the current coefficients are probably not the best."
      ],
      "metadata": {
        "id": "gcXXyUJ1dCUs"
      }
    },
    {
      "cell_type": "markdown",
      "source": [
        "##First pass at modelling \n",
        "The first pass at modelling involves our first guess for parameters of a second degree polynomial ($y=\\beta_0+\\beta_1x+\\beta_2 x^2$). This will be our initial model which will most likely not be that accurate, which we will aim to improve upon until it fits the data well enough."
      ],
      "metadata": {
        "id": "9Ns-XPt2gV4Q"
      }
    },
    {
      "cell_type": "code",
      "source": [
        "y_bar = eval_2nd_degree(coeffs, np.array(Year))\n",
        "\n",
        "plt.figure(figsize=(20,10))\n",
        "plt.plot(Year, Population, 'bo', label = 'original',markersize=22)\n",
        "plt.plot(Year, y_bar, 'ro', label='prediction',markersize=22)\n",
        "plt.title('Original data vs first prediction')\n",
        "plt.legend(loc=\"lower right\")\n",
        "plt.show()"
      ],
      "metadata": {
        "colab": {
          "base_uri": "https://localhost:8080/",
          "height": 607
        },
        "id": "ojpZcKftPuL6",
        "outputId": "b78d5fbe-929e-43d0-d306-5bc4e395c2ed"
      },
      "execution_count": 79,
      "outputs": [
        {
          "output_type": "display_data",
          "data": {
            "text/plain": [
              "<Figure size 1440x720 with 1 Axes>"
            ],
            "image/png": "[encoded data removed]"
          },
          "metadata": {
            "needs_background": "light"
          }
        }
      ]
    },
    {
      "cell_type": "markdown",
      "source": [
        "It is evident from the above plot that this new model with random coefficients does not fit our data all that well. To get a quantifiable measure of how incorrect it is, we calculate the Squared Error loss for the model. This is the sum of the squared differences between the actual and predicted outputs:\n",
        "$$E=\\sum_{i=1}^n(y_i-\\bar{y_i})^2,$$\n",
        "where $y_i$ is the actual value and $\\bar{y_i}$ is the predicted value."
      ],
      "metadata": {
        "id": "e5UI0JxJiKq2"
      }
    },
    {
      "cell_type": "code",
      "source": [
        "def loss_mse(y_real, y_bar):\n",
        "    return sum((y_real - y_bar)*(y_real - y_bar))\n",
        "  \n",
        "initial_model_loss = loss_mse(Population, y_bar)\n",
        "  \n",
        "initial_model_loss"
      ],
      "metadata": {
        "colab": {
          "base_uri": "https://localhost:8080/"
        },
        "id": "WO62vmE9P4Ei",
        "outputId": "35d14111-b933-411b-890d-8c3f4ed74649"
      },
      "execution_count": 80,
      "outputs": [
        {
          "output_type": "execute_result",
          "data": {
            "text/plain": [
              "890.8580000000001"
            ]
          },
          "metadata": {},
          "execution_count": 80
        }
      ]
    },
    {
      "cell_type": "markdown",
      "source": [
        "Quite a large number. Let’s now see if we can improve on this fairly high loss metric by optimizing the model with gradient descent."
      ],
      "metadata": {
        "id": "N5APRu3EitB1"
      }
    },
    {
      "cell_type": "markdown",
      "source": [
        "##Gradient Descent and Loss Reduction\n",
        "We wish to improve our model, that is, we want to alter its coefficients $\\beta_0, \\beta_1$ and $\\beta_2$ to decrease the error. Therefore we require knowledge about how each coefficient affects the error. This is achieved by calculating the partial derivative of the error function with respect to each of the individual coefficients.\n",
        "\n",
        "In this case, we are using LSE as our error function — this is the function we wish to calculate partial derivatives for:\n",
        "$$E=\\sum_{i=1}^n(y_i-\\bar{y_i})^2$$\n",
        "With output predictions for our model as:\n",
        "$$\\bar{y}=\\beta_0+\\beta_1x+\\beta_2 x^2$$\n",
        "Error function can therefore be reformulated as:\n",
        "$$E=\\sum_{i=1}^n(y_i-(\\beta_0+\\beta_1x+\\beta_2 x^2))^2$$\n",
        "\n",
        "In this specific case, our partial derivatives for that loss function are the following:\n",
        "\n",
        "* Partial derivative with respect to $\\beta_0$:\n",
        "$$\\frac{dE}{d\\beta_0}=-2\\sum_{i=1}^n(y_i-(\\beta_0+\\beta_1x+\\beta_2 x^2))$$\n",
        "\n",
        "* Partial derivative with respect to $\\beta_1$:\n",
        "$$\\frac{dE}{d\\beta_1}=-2\\sum_{i=1}^nx_i(y_i-(\\beta_0+\\beta_1x+\\beta_2 x^2))$$\n",
        "\n",
        "* Partial derivative with respect to $\\beta_2$:\n",
        "$$\\frac{dE}{d\\beta_2}=-2\\sum_{i=1}^nx_i^2(y_i-(\\beta_0+\\beta_1x+\\beta_2 x^2))$$"
      ],
      "metadata": {
        "id": "wVJi7-G6i8T_"
      }
    },
    {
      "cell_type": "markdown",
      "source": [
        "* If you calculate the value of each derivative, you will obtain the gradient for each coefficient.\n",
        "* These are the values that give you the slope of the loss function with regards to each specific coefficient.\n",
        "* They indicate whether you should increase or decrease it to reduce the loss, and also by how much it should be safe to do so."
      ],
      "metadata": {
        "id": "Veb9Z-6ykZwp"
      }
    },
    {
      "cell_type": "markdown",
      "source": [
        "Given coefficients $\\beta_0, \\beta_1$ and $\\beta_2$, calculated gradients $𝑔_{\\beta_0}$, $𝑔_{\\beta_1}$and $𝑔_{\\beta_2}$ and a learning rate $lr$, typically one would update the coefficients so that their new, updated values are defined as below:\n",
        "\n",
        "$$\\beta_{0_{new}}=\\beta_0-lr\\times g_{\\beta_0}$$\n",
        "$$\\beta_{1_{new}}=\\beta_1-lr\\times g_{\\beta_1}$$\n",
        "$$\\beta_{2_{new}}=\\beta_2-lr\\times g_{\\beta_2}$$\n",
        "\n",
        "Once you have applied that new model to the data, your loss should have decreased."
      ],
      "metadata": {
        "id": "9fW3si1Kk2fT"
      }
    },
    {
      "cell_type": "markdown",
      "source": [
        "##Get that loss down\n",
        "We need a gradient calculation function which, given a second degree polynomial’s coefficients, as well as a set of inputs $𝑥$ and a corresponding set of actual outputs $𝑦$ will return the respective gradients for each coefficient."
      ],
      "metadata": {
        "id": "aB8tLUAFl061"
      }
    },
    {
      "cell_type": "code",
      "source": [
        "def calc_gradient_2nd_poly(coeffs, x_real, y_real): \n",
        "      \n",
        "    a_s = []\n",
        "    b_s = []\n",
        "    c_s = []\n",
        "    \n",
        "    \n",
        "    y_bars = eval_2nd_degree(coeffs, x_real)\n",
        "    \n",
        "    for x,y,y_bar in list(zip(x_real, y_real, y_bars)):    # take tuple of (x datapoint, actual y label, predicted y label)\n",
        "        x_squared = x**2\n",
        "        partial_a = x_squared * (y-y_bar)\n",
        "        a_s.append(partial_a)\n",
        "        partial_b = x * (y-y_bar)\n",
        "        b_s.append(partial_b)\n",
        "        partial_c = (y-y_bar)\n",
        "        c_s.append(partial_c)\n",
        "        \n",
        "    gradient_a = -2 * sum(a_s)\n",
        "    gradient_b = -2 * sum(b_s)\n",
        "    gradient_c = -2 * sum(c_s)\n",
        "    return(gradient_a, gradient_b, gradient_c)   # return calculated gradients as a a tuple of its 3 parts\n"
      ],
      "metadata": {
        "id": "kGvH1CCoP-jD"
      },
      "execution_count": 81,
      "outputs": []
    },
    {
      "cell_type": "markdown",
      "source": [
        "We’re now going to:\n",
        "\n",
        "* Use the above function to calculate gradients for our first guess,\n",
        "* Adjust the model’s coefficients accordingly,\n",
        "* Verify that the model’s loss is now smaller — that G.D. has worked!\n",
        "\n",
        "Let’s set an initial learning rate to experiment with. This should be kept small to avoid the missing the global minimum, but not so small that it takes forever or gets stuck in a local minimum. $lr = 0.00000001$ is a good place to start."
      ],
      "metadata": {
        "id": "vHw3tt60u0mc"
      }
    },
    {
      "cell_type": "code",
      "source": [
        "calc_grad = calc_gradient_2nd_poly(coeffs, np.array(Year), np.array(Population))\n",
        "\n",
        "lr = 0.00000001\n",
        "a_new = coeffs[0] - lr * calc_grad[0]\n",
        "b_new = coeffs[1] - lr * calc_grad[1]\n",
        "c_new = coeffs[2] - lr * calc_grad[2]\n",
        "\n",
        "new_model_coeffs = (a_new, b_new, c_new)\n",
        "print(f\"New model coeffs: {new_model_coeffs}\")\n",
        "print(\"\")\n",
        "\n",
        "#update with these new coeffs:\n",
        "new_y_bar = eval_2nd_degree(new_model_coeffs, np.array(Year))\n",
        "updated_model_loss = loss_mse(np.array(Population), new_y_bar)\n",
        "\n",
        "print(f\"Now have smaller model loss: {updated_model_loss} vs {initial_model_loss}\")"
      ],
      "metadata": {
        "colab": {
          "base_uri": "https://localhost:8080/"
        },
        "id": "E2TriuFXQBQL",
        "outputId": "815e5141-3160-41ee-96bf-701958cc39d2"
      },
      "execution_count": 82,
      "outputs": [
        {
          "output_type": "stream",
          "name": "stdout",
          "text": [
            "New model coeffs: (0.00507688, -0.00093168, 4.5000012176)\n",
            "\n",
            "Now have smaller model loss: 5.928626307561122 vs 890.8580000000001\n"
          ]
        }
      ]
    },
    {
      "cell_type": "markdown",
      "source": [
        "Visualize this improvement by plotting the training data, original random model and updated lower-loss model together:"
      ],
      "metadata": {
        "id": "zg5e987P_qAz"
      }
    },
    {
      "cell_type": "code",
      "source": [
        "plt.figure(figsize=(20,10))\n",
        "plt.plot(Year, Population, 'bo', label = 'original model',markersize=15)\n",
        "plt.plot(Year, y_bar, 'ro', label = 'first prediction',markersize=15)\n",
        "plt.plot(Year, new_y_bar, 'go', label = 'updated prediction',markersize=15)\n",
        "plt.title('Original model vs 1st prediction vs updated prediction with lower loss')\n",
        "plt.legend(loc=\"lower right\")\n",
        "plt.show()"
      ],
      "metadata": {
        "colab": {
          "base_uri": "https://localhost:8080/",
          "height": 607
        },
        "id": "ONwxcXQ8QD9J",
        "outputId": "b963c957-3203-46b1-91b8-a3f557873cf6"
      },
      "execution_count": 94,
      "outputs": [
        {
          "output_type": "display_data",
          "data": {
            "text/plain": [
              "<Figure size 1440x720 with 1 Axes>"
            ],
            "image/png": "[encoded data removed]"
          },
          "metadata": {
            "needs_background": "light"
          }
        }
      ]
    },
    {
      "cell_type": "markdown",
      "source": [
        "##Iterative Gradient Descent over many epochs\n",
        "We’re almost ready. The last step will be to perform gradient descent iteratively over a number of epochs (cycles or iterations.) With every epoch we hope to see an improvement in the form of lowered loss, and better model-fitting to the original data.\n",
        "\n",
        "Let’s improve on the calc_gradient_2nd_poly function from above, to make it more usable for an iterative gradient descent process:"
      ],
      "metadata": {
        "id": "wIx7KbJG_zpY"
      }
    },
    {
      "cell_type": "code",
      "source": [
        "def calc_gradient_2nd_poly_for_GD(coeffs, inputs_x, outputs_y, lr): \n",
        "    a_s = []\n",
        "    b_s = []\n",
        "    c_s = []\n",
        "        \n",
        "    y_bars = eval_2nd_degree(coeffs, inputs_x)\n",
        "\n",
        "    for x,y,y_bar in list(zip(inputs_x, outputs_y, y_bars)):    # take tuple of (x datapoint, actual y label, predicted y label)\n",
        "        x_squared = x**2        \n",
        "        partial_a = x_squared * (y - y_bar)\n",
        "        a_s.append(partial_a)\n",
        "        partial_b = x * (y-y_bar)\n",
        "        b_s.append(partial_b)\n",
        "        partial_c = (y-y_bar)\n",
        "        c_s.append(partial_c)\n",
        "    \n",
        "    gradient_a = -2 * sum(a_s)\n",
        "    gradient_b = -2 * sum(b_s)\n",
        "    gradient_c = -3 * sum(c_s)\n",
        "\n",
        "\n",
        "    a_new = coeffs[0] - lr * gradient_a\n",
        "    b_new = coeffs[1] - lr * gradient_b\n",
        "    c_new = coeffs[2] - lr * gradient_c\n",
        "    \n",
        "    new_model_coeffs = (a_new, b_new, c_new)\n",
        "    \n",
        "    #update with these new coeffs:\n",
        "    new_y_bar = eval_2nd_degree(new_model_coeffs, inputs_x)\n",
        "    \n",
        "    updated_model_loss = loss_mse(outputs_y, new_y_bar)\n",
        "    return updated_model_loss, new_model_coeffs, new_y_bar\n",
        "    "
      ],
      "metadata": {
        "id": "_T6aN9v9QGRF"
      },
      "execution_count": 84,
      "outputs": []
    },
    {
      "cell_type": "markdown",
      "source": [
        "This will be called as part of the gradient_descent function:\n",
        "\n"
      ],
      "metadata": {
        "id": "Oe30sUFe_-e0"
      }
    },
    {
      "cell_type": "code",
      "source": [
        "def gradient_descent(epochs, lr):\n",
        "    losses = []\n",
        "    rand_coeffs_to_test = coeffs\n",
        "    for i in range(epochs):\n",
        "        loss = calc_gradient_2nd_poly_for_GD(rand_coeffs_to_test, np.array(Year), np.array(Population), lr)\n",
        "        rand_coeffs_to_test = loss[1]\n",
        "        losses.append(loss[0])\n",
        "    print(losses)\n",
        "    return loss[0], loss[1], loss[2], losses  #(updated_model_loss, new_model_coeffs, new_y_bar, saved loss updates)\n"
      ],
      "metadata": {
        "id": "ueK_7zm2QLUj"
      },
      "execution_count": 85,
      "outputs": []
    },
    {
      "cell_type": "markdown",
      "source": [
        "Finally, let’s train for 1500 epochs and see if our model has learned anything:\n",
        "\n"
      ],
      "metadata": {
        "id": "L8GQbB1SABl4"
      }
    },
    {
      "cell_type": "code",
      "source": [
        "GD = gradient_descent(1500, 0.00000001)\n",
        "\n",
        "plt.figure(figsize=(20,10))\n",
        "plt.plot(Year, Population, 'ro', label = 'original',markersize=15)\n",
        "plt.plot(Year, GD[2], 'b-', label = 'final_prediction',markersize=15)\n",
        "plt.title('Original vs Final prediction after Gradient Descent')\n",
        "plt.legend(loc=\"lower right\")\n",
        "plt.show()"
      ],
      "metadata": {
        "colab": {
          "base_uri": "https://localhost:8080/",
          "height": 644
        },
        "id": "0mYtRCSCQN2l",
        "outputId": "c44a1661-9b00-4d55-8f66-c4525dc1e511"
      },
      "execution_count": 93,
      "outputs": [
        {
          "output_type": "stream",
          "name": "stdout",
          "text": [
            "[5.928621699507392, 2.2428724290770936, 2.227521075894078, 2.227457005853993, 2.2274566076684645, 2.227456474682037, 2.2274563428046634, 2.2274562109364062, 2.2274560790727, 2.227455947213501, 2.2274558153588337, 2.2274556835086856, 2.2274555516630516, 2.2274554198219443, 2.2274552879853595, 2.2274551561532836, 2.227455024325734, 2.227454892502716, 2.227454760684191, 2.2274546288702024, 2.227454497060735, 2.227454365255784, 2.2274542334553438, 2.2274541016594283, 2.2274539698680313, 2.2274538380811624, 2.2274537062988, 2.2274535745209505, 2.2274534427476373, 2.227453310978831, 2.2274531792145362, 2.2274530474547647, 2.2274529156995126, 2.227452783948772, 2.2274526522025564, 2.2274525204608593, 2.2274523887236626, 2.2274522569910027, 2.2274521252628463, 2.227451993539209, 2.2274518618200836, 2.2274517301054786, 2.2274515983953984, 2.227451466689806, 2.227451334988764, 2.227451203292218, 2.227451071600196, 2.227450939912687, 2.227450808229687, 2.2274506765512045, 2.227450544877234, 2.2274504132077784, 2.227450281542833, 2.2274501498824115, 2.227450018226498, 2.2274498865751027, 2.227449754928212, 2.2274496232858407, 2.227449491647984, 2.227449360014652, 2.2274492283858116, 2.2274490967614886, 2.2274489651416842, 2.2274488335263936, 2.2274487019156086, 2.227448570309338, 2.2274484387075812, 2.227448307110342, 2.22744817551761, 2.2274480439293836, 2.2274479123456707, 2.227447780766477, 2.227447649191791, 2.2274475176216066, 2.227447386055938, 2.2274472544947894, 2.2274471229381443, 2.2274469913860075, 2.2274468598383814, 2.2274467282952712, 2.2274465967566686, 2.227446465222567, 2.227446333692986, 2.227446202167907, 2.2274460706473347, 2.2274459391312873, 2.2274458076197337, 2.2274456761126973, 2.2274455446101586, 2.227445413112144, 2.2274452816186168, 2.227445150129623, 2.2274450186451182, 2.2274448871651256, 2.227444755689642, 2.227444624218668, 2.227444492752204, 2.227444361290247, 2.227444229832791, 2.227444098379846, 2.2274439669314074, 2.2274438354874673, 2.227443704048043, 2.2274435726131228, 2.2274434411827104, 2.2274433097568065, 2.2274431783354025, 2.227443046918506, 2.2274429155061095, 2.2274427840982307, 2.22744265269485, 2.2274425212959716, 2.2274423899015963, 2.2274422585117364, 2.2274421271263716, 2.2274419957455134, 2.2274418643691694, 2.227441732997313, 2.2274416016299745, 2.22744147026713, 2.227441338908795, 2.227441207554963, 2.2274410762056376, 2.227440944860808, 2.2274408135204844, 2.2274406821846653, 2.2274405508533466, 2.2274404195265243, 2.22744028820422, 2.2274401568864013, 2.2274400255731046, 2.2274398942643, 2.2274397629599907, 2.227439631660182, 2.227439500364886, 2.227439369074081, 2.227439237787786, 2.2274391065059866, 2.2274389752286896, 2.227438843955899, 2.227438712687602, 2.227438581423801, 2.227438450164515, 2.2274383189097167, 2.227438187659422, 2.2274380564136305, 2.2274379251723344, 2.227437793935537, 2.2274376627032373, 2.227437531475444, 2.2274374002521418, 2.2274372690333433, 2.2274371378190496, 2.2274370066092417, 2.227436875403944, 2.227436744203137, 2.2274366130068275, 2.227436481815019, 2.2274363506277046, 2.2274362194448956, 2.227436088266583, 2.2274359570927604, 2.227435825923438, 2.2274356947586123, 2.2274355635982896, 2.227435432442458, 2.2274353012911217, 2.2274351701442834, 2.227435039001939, 2.2274349078640947, 2.2274347767307487, 2.2274346456019054, 2.2274345144775367, 2.227434383357676, 2.2274342522423076, 2.227434121131436, 2.2274339900250606, 2.2274338589231797, 2.227433727825795, 2.2274335967328964, 2.227433465644503, 2.227433334560598, 2.227433203481187, 2.227433072406269, 2.227432941335851, 2.2274328102699226, 2.227432679208491, 2.2274325481515516, 2.2274324170990965, 2.2274322860511386, 2.2274321550076785, 2.227432023968705, 2.227431892934232, 2.227431761904246, 2.2274316308787485, 2.2274314998577567, 2.2274313688412444, 2.227431237829226, 2.227431106821704, 2.2274309758186686, 2.22743084482013, 2.2274307138260787, 2.2274305828365137, 2.227430451851445, 2.2274303208708646, 2.227430189894778, 2.2274300589231846, 2.2274299279560767, 2.227429796993457, 2.227429666035328, 2.2274295350816895, 2.227429404132545, 2.2274292731878886, 2.2274291422477166, 2.2274290113120356, 2.2274288803808466, 2.227428749454142, 2.227428618531933, 2.2274284876142048, 2.2274283567009734, 2.2274282257922215, 2.227428094887959, 2.2274279639881995, 2.2274278330929054, 2.227427702202111, 2.227427571315796, 2.2274274404339827, 2.227427309556652, 2.227427178683807, 2.22742704781544, 2.2274269169515675, 2.227426786092177, 2.227426655237272, 2.2274265243868565, 2.227426393540932, 2.2274262626994883, 2.2274261318625355, 2.227426001030064, 2.2274258702020777, 2.227425739378579, 2.227425608559564, 2.2274254777450317, 2.2274253469349814, 2.2274252161294292, 2.2274250853283437, 2.22742495453176, 2.227424823739643, 2.227424692952024, 2.2274245621688893, 2.2274244313902307, 2.227424300616055, 2.2274241698463686, 2.227424039081162, 2.227423908320439, 2.227423777564203, 2.227423646812449, 2.2274235160651745, 2.2274233853223735, 2.2274232545840764, 2.22742312385024, 2.227422993120899, 2.227422862396035, 2.227422731675653, 2.227422600959758, 2.227422470248336, 2.2274223395414037, 2.227422208838947, 2.2274220781409824, 2.2274219474474823, 2.2274218167584676, 2.22742168607394, 2.227421555393889, 2.2274214247183233, 2.2274212940472142, 2.227421163380614, 2.227421032718487, 2.2274209020608353, 2.2274207714076613, 2.2274206407589667, 2.2274205101147553, 2.2274203794750163, 2.2274202488397554, 2.2274201182089834, 2.22741998758269, 2.2274198569608625, 2.2274197263435247, 2.2274195957306584, 2.2274194651222707, 2.2274193345183613, 2.227419203918937, 2.2274190733239827, 2.2274189427335025, 2.227418812147506, 2.2274186815659798, 2.227418550988947, 2.227418420416367, 2.227418289848278, 2.227418159284668, 2.227418028725519, 2.2274178981708577, 2.227417767620676, 2.2274176370749683, 2.2274175065337274, 2.227417375996972, 2.227417245464681, 2.2274171149368738, 2.2274169844135416, 2.2274168538946784, 2.227416723380297, 2.2274165928703815, 2.227416462364939, 2.2274163318639824, 2.2274162013674994, 2.227416070875477, 2.2274159403879445, 2.2274158099048798, 2.227415679426283, 2.2274155489521625, 2.2274154184825194, 2.2274152880173466, 2.2274151575566523, 2.227415027100419, 2.227414896648656, 2.227414766201383, 2.2274146357585742, 2.227414505320228, 2.2274143748863615, 2.2274142444569662, 2.22741411403205, 2.2274139836115925, 2.2274138531956114, 2.2274137227841004, 2.227413592377064, 2.2274134619744976, 2.2274133315764053, 2.2274132011827774, 2.227413070793615, 2.2274129404089362, 2.227412810028726, 2.2274126796529736, 2.2274125492817, 2.227412418914898, 2.2274122885525545, 2.2274121581946886, 2.2274120278412934, 2.227411897492365, 2.2274117671478946, 2.227411636807912, 2.2274115064723894, 2.2274113761413328, 2.2274112458147504, 2.2274111154926266, 2.227410985174982, 2.227410854861798, 2.2274107245530956, 2.227410594248836, 2.227410463949058, 2.2274103336537516, 2.2274102033629033, 2.2274100730765185, 2.227409942794618, 2.227409812517163, 2.2274096822441853, 2.227409551975681, 2.22740942171163, 2.227409291452044, 2.2274091611969373, 2.2274090309462817, 2.227408900700104, 2.2274087704583785, 2.2274086402211273, 2.227408509988334, 2.227408379760011, 2.2274082495361576, 2.227408119316766, 2.2274079891018363, 2.2274078588913655, 2.227407728685366, 2.2274075984838375, 2.2274074682867577, 2.227407338094146, 2.2274072079060043, 2.2274070777223174, 2.2274069475431, 2.227406817368338, 2.2274066871980462, 2.2274065570322215, 2.227406426870848, 2.2274062967139447, 2.22740616656151, 2.2274060364135218, 2.2274059062700036, 2.2274057761309405, 2.227405645996352, 2.227405515866208, 2.2274053857405414, 2.227405255619331, 2.2274051255025764, 2.227404995390282, 2.2274048652824563, 2.2274047351790847, 2.2274046050801837, 2.2274044749857316, 2.227404344895742, 2.227404214810221, 2.2274040847291485, 2.2274039546525377, 2.227403824580395, 2.2274036945127023, 2.227403564449473, 2.227403434390704, 2.22740330433639, 2.2274031742865326, 2.227403044241144, 2.2274029142002068, 2.2274027841637247, 2.2274026541317062, 2.227402524104146, 2.227402394081039, 2.227402264062396, 2.227402134048204, 2.2274020040384794, 2.2274018740331956, 2.227401744032387, 2.2274016140360184, 2.2274014840441154, 2.2274013540566737, 2.2274012240736836, 2.2274010940951485, 2.2274009641210704, 2.227400834151444, 2.2274007041862762, 2.227400574225567, 2.2274004442693154, 2.2274003143175203, 2.2274001843701656, 2.227400054427279, 2.2273999244888474, 2.2273997945548603, 2.2273996646253424, 2.2273995347002797, 2.2273994047796566, 2.2273992748634868, 2.2273991449517814, 2.227399015044538, 2.227398885141729, 2.227398755243385, 2.2273986253494944, 2.2273984954600508, 2.227398365575066, 2.2273982356945328, 2.2273981058184438, 2.2273979759468214, 2.2273978460796497, 2.227397716216917, 2.2273975863586486, 2.227397456504823, 2.2273973266554643, 2.2273971968105433, 2.227397066970082, 2.2273969371340616, 2.2273968073025023, 2.227396677475395, 2.2273965476527335, 2.227396417834519, 2.2273962880207687, 2.227396158211458, 2.2273960284065977, 2.2273958986061944, 2.2273957688102337, 2.2273956390187273, 2.2273955092316733, 2.2273953794490615, 2.227395249670909, 2.2273951198971957, 2.2273949901279355, 2.2273948603631224, 2.2273947306027613, 2.2273946008468455, 2.227394471095377, 2.2273943413483694, 2.227394211605792, 2.227394081867675, 2.227393952134003, 2.2273938224047805, 2.227393692680004, 2.2273935629596737, 2.227393433243786, 2.2273933035323523, 2.227393173825361, 2.2273930441228216, 2.227392914424723, 2.2273927847310793, 2.2273926550418777, 2.227392525357116, 2.227392395676808, 2.2273922660009453, 2.2273921363295193, 2.2273920066625497, 2.227391877000019, 2.227391747341945, 2.2273916176883097, 2.2273914880391206, 2.227391358394372, 2.2273912287540716, 2.2273910991182087, 2.2273909694867977, 2.2273908398598232, 2.2273907102372963, 2.227390580619218, 2.227390451005584, 2.2273903213963893, 2.227390191791633, 2.2273900621913314, 2.2273899325954676, 2.227389803004051, 2.227389673417073, 2.2273895438345477, 2.227389414256441, 2.2273892846827943, 2.2273891551135874, 2.227389025548816, 2.227388895988498, 2.227388766432616, 2.2273886368811744, 2.227388507334173, 2.2273883777916126, 2.2273882482535003, 2.227388118719821, 2.2273879891905866, 2.2273878596657952, 2.227387730145439, 2.2273876006295295, 2.22738747111805, 2.2273873416110215, 2.227387212108437, 2.2273870826102744, 2.227386953116564, 2.227386823627289, 2.227386694142463, 2.227386564662063, 2.2273864351860975, 2.227386305714589, 2.2273861762475096, 2.2273860467848685, 2.227385917326671, 2.2273857878729095, 2.2273856584235814, 2.2273855289787, 2.227385399538253, 2.2273852701022325, 2.227385140670659, 2.2273850112435234, 2.2273848818208295, 2.22738475240256, 2.2273846229887453, 2.227384493579352, 2.2273843641743944, 2.2273842347738873, 2.2273841053778027, 2.227383975986162, 2.2273838465989564, 2.2273837172161848, 2.2273835878378505, 2.2273834584639505, 2.227383329094486, 2.2273831997294526, 2.227383070368863, 2.227382941012701, 2.2273828116609753, 2.2273826823136886, 2.227382552970829, 2.227382423632411, 2.227382294298427, 2.2273821649688736, 2.2273820356437524, 2.2273819063230604, 2.2273817770068134, 2.2273816476949966, 2.227381518387614, 2.227381389084659, 2.2273812597861413, 2.227381130492052, 2.227381001202403, 2.2273808719171813, 2.227380742636397, 2.2273806133600362, 2.22738048408811, 2.227380354820621, 2.2273802255575545, 2.2273800962989347, 2.2273799670447394, 2.2273798377949725, 2.227379708549625, 2.2273795793087245, 2.227379450072247, 2.227379320840215, 2.2273791916125996, 2.2273790623894216, 2.227378933170662, 2.227378803956337, 2.2273786747464475, 2.227378545540985, 2.2273784163399624, 2.2273782871433485, 2.2273781579511778, 2.2273780287634346, 2.227377899580115, 2.2273777704012296, 2.2273776412267767, 2.227377512056741, 2.227377382891136, 2.227377253729963, 2.227377124573229, 2.227376995420908, 2.2273768662730173, 2.227376737129558, 2.227376607990535, 2.2273764788559203, 2.2273763497257413, 2.227376220599996, 2.2273760914786624, 2.227375962361761, 2.2273758332492912, 2.227375704141241, 2.2273755750376294, 2.227375445938436, 2.2273753168436623, 2.227375187753318, 2.227375058667406, 2.227374929585924, 2.227374800508848, 2.227374671436215, 2.227374542367996, 2.227374413304208, 2.227374284244842, 2.227374155189904, 2.2273740261393784, 2.2273738970932873, 2.2273737680516263, 2.2273736390143783, 2.22737350998156, 2.2273733809531673, 2.2273732519291887, 2.227373122909645, 2.227372993894522, 2.2273728648838116, 2.2273727358775393, 2.2273726068756736, 2.22737247787824, 2.22737234888523, 2.227372219896637, 2.2273720909124672, 2.2273719619327217, 2.227371832957404, 2.2273717039865035, 2.2273715750200203, 2.227371446057963, 2.2273713171003147, 2.2273711881471026, 2.2273710591983056, 2.227370930253932, 2.2273708013139712, 2.2273706723784517, 2.2273705434473268, 2.227370414520635, 2.2273702855983593, 2.2273701566805144, 2.227370027767071, 2.2273698988580644, 2.227369769953458, 2.2273696410532917, 2.2273695121575265, 2.2273693832661876, 2.2273692543792807, 2.2273691254967827, 2.2273689966186945, 2.2273688677450325, 2.2273687388757892, 2.2273686100109593, 2.227368481150554, 2.2273683522945626, 2.2273682234429857, 2.2273680945958305, 2.227367965753091, 2.227367836914773, 2.227367708080864, 2.2273675792513785, 2.2273674504263044, 2.2273673216056538, 2.2273671927894187, 2.227367063977592, 2.2273669351701857, 2.227366806367193, 2.227366677568623, 2.227366548774463, 2.22736641998472, 2.2273662911993917, 2.227366162418483, 2.227366033641986, 2.227365904869895, 2.2273657761022285, 2.227365647338981, 2.2273655185801426, 2.2273653898257155, 2.2273652610757093, 2.2273651323301156, 2.2273650035889228, 2.2273648748521557, 2.227364746119804, 2.227364617391858, 2.2273644886683335, 2.227364359949215, 2.2273642312345134, 2.2273641025242257, 2.227363973818347, 2.2273638451168702, 2.227363716419823, 2.2273635877271833, 2.227363459038961, 2.2273633303551454, 2.2273632016757374, 2.2273630730007445, 2.22736294433015, 2.227362815663983, 2.227362687002223, 2.2273625583448764, 2.227362429691942, 2.227362301043413, 2.2273621723992996, 2.2273620437595856, 2.2273619151242947, 2.227361786493406, 2.227361657866929, 2.227361529244864, 2.2273614006272, 2.227361272013958, 2.2273611434051204, 2.2273610148006866, 2.2273608862006613, 2.2273607576050507, 2.2273606290138526, 2.2273605004270545, 2.2273603718446777, 2.22736024326669, 2.227360114693127, 2.22735998612396, 2.2273598575592093, 2.2273597289988616, 2.2273596004429237, 2.2273594718913907, 2.2273593433442693, 2.2273592148015515, 2.227359086263239, 2.227358957729329, 2.2273588291998347, 2.227358700674745, 2.2273585721540514, 2.227358443637783, 2.2273583151259126, 2.2273581866184387, 2.2273580581153727, 2.2273579296167227, 2.2273578011224746, 2.2273576726326225, 2.2273575441471847, 2.2273574156661518, 2.2273572871895224, 2.227357158717295, 2.2273570302494754, 2.2273569017860577, 2.227356773327037, 2.2273566448724265, 2.2273565164222253, 2.2273563879764247, 2.2273562595350294, 2.2273561310980323, 2.227356002665439, 2.227355874237249, 2.2273557458134654, 2.2273556173940747, 2.227355488979103, 2.22735536056852, 2.2273552321623438, 2.227355103760573, 2.2273549753631974, 2.227354846970232, 2.2273547185816676, 2.2273545901974936, 2.227354461817728, 2.2273543334423636, 2.227354205071405, 2.2273540767048394, 2.227353948342683, 2.227353819984916, 2.227353691631561, 2.2273535632826063, 2.227353434938032, 2.227353306597887, 2.227353178262129, 2.227353049930765, 2.227352921603804, 2.227352793281246, 2.2273526649630844, 2.2273525366493274, 2.227352408339959, 2.2273522800350025, 2.2273521517344284, 2.227352023438268, 2.227351895146493, 2.2273517668591203, 2.2273516385761534, 2.22735151029758, 2.227351382023401, 2.227351253753622, 2.227351125488243, 2.2273509972272603, 2.2273508689706727, 2.227350740718479, 2.22735061247069, 2.2273504842272924, 2.227350355988291, 2.2273502277536945, 2.2273500995234734, 2.2273499712976683, 2.2273498430762553, 2.2273497148592343, 2.2273495866466106, 2.22734945843838, 2.2273493302345506, 2.2273492020351173, 2.227349073840068, 2.227348945649421, 2.2273488174631684, 2.2273486892813135, 2.2273485611038435, 2.2273484329307793, 2.2273483047621063, 2.227348176597822, 2.2273480484379413, 2.227347920282442, 2.2273477921313436, 2.2273476639846264, 2.227347535842322, 2.2273474077044035, 2.2273472795708775, 2.22734715144174, 2.227347023317005, 2.2273468951966455, 2.227346767080695, 2.2273466389691263, 2.227346510861966, 2.227346382759178, 2.227346254660785, 2.227346126566793, 2.227345998477185, 2.227345870391961, 2.2273457423111473, 2.227345614234712, 2.227345486162667, 2.2273453580950173, 2.2273452300317564, 2.2273451019728885, 2.2273449739184072, 2.227344845868315, 2.227344717822622, 2.227344589781314, 2.22734446174438, 2.227344333711858, 2.227344205683712, 2.2273440776599642, 2.227343949640598, 2.227343821625621, 2.2273436936150426, 2.227343565608846, 2.2273434376070336, 2.227343309609612, 2.2273431816165803, 2.2273430536279353, 2.227342925643683, 2.2273427976638103, 2.2273426696883316, 2.227342541717238, 2.2273424137505273, 2.227342285788206, 2.2273421578302757, 2.227342029876729, 2.2273419019275726, 2.2273417739827943, 2.2273416460424085, 2.2273415181064067, 2.2273413901747947, 2.2273412622475663, 2.2273411343247207, 2.2273410064062658, 2.227340878492196, 2.2273407505825094, 2.2273406226772083, 2.2273404947762936, 2.227340366879755, 2.2273402389876082, 2.2273401110998443, 2.227339983216464, 2.227339855337474, 2.2273397274628635, 2.227339599592636, 2.227339471726794, 2.2273393438653386, 2.22733921600826, 2.2273390881555755, 2.227338960307253, 2.2273388324633414, 2.227338704623795, 2.22733857678864, 2.227338448957849, 2.227338321131456, 2.227338193309449, 2.2273380654918133, 2.2273379376785654, 2.2273378098696965, 2.2273376820652153, 2.2273375542651106, 2.227337426469376, 2.227337298678057, 2.227337170891085, 2.2273370431085047, 2.2273369153303033, 2.227336787556485, 2.2273366597870448, 2.2273365320219956, 2.2273364042613184, 2.227336276505015, 2.227336148753107, 2.227336021005563, 2.2273358932624068, 2.227335765523629, 2.2273356377892197, 2.2273355100592043, 2.2273353823335675, 2.2273352546122993, 2.2273351268954196, 2.2273349991829163, 2.2273348714747896, 2.227334743771027, 2.227334616071659, 2.227334488376676, 2.2273343606860503, 2.2273342329998185, 2.227334105317955, 2.227333977640475, 2.227333849967372, 2.2273337222986336, 2.227333594634285, 2.2273334669743132, 2.2273333393187063, 2.2273332116674953, 2.2273330840206516, 2.227332956378178, 2.2273328287400807, 2.2273327011063655, 2.2273325734770175, 2.2273324458520527, 2.2273323182314604, 2.2273321906152486, 2.2273320630033995, 2.2273319353959375, 2.2273318077928432, 2.2273316801941285, 2.227331552599783, 2.2273314250098184, 2.2273312974242123, 2.2273311698429907, 2.2273310422661456, 2.2273309146936775, 2.2273307871255765, 2.2273306595618534, 2.2273305320024885, 2.2273304044475224, 2.227330276896916, 2.2273301493506805, 2.22733002180882, 2.2273298942713247, 2.2273297667382064, 2.227329639209465, 2.227329511685088, 2.2273293841650923, 2.2273292566494645, 2.227329129138206, 2.227329001631321, 2.227328874128808, 2.22732874663066, 2.227328619136896, 2.227328491647492, 2.2273283641624575, 2.227328236681795, 2.227328109205506, 2.2273279817335916, 2.2273278542660386, 2.2273277268028577, 2.2273275993440427, 2.2273274718896063, 2.227327344439533, 2.2273272169938387, 2.2273270895525004, 2.227326962115534, 2.227326834682951, 2.227326707254726, 2.2273265798308604, 2.227326452411377, 2.2273263249962474, 2.2273261975855014, 2.2273260701791147, 2.2273259427770977, 2.2273258153794524, 2.227325687986168, 2.2273255605972535, 2.227325433212708, 2.227325305832529, 2.227325178456725, 2.2273250510852716, 2.227324923718193, 2.227324796355478, 2.227324668997131, 2.227324541643153, 2.22732441429354, 2.227324286948292, 2.2273241596074014, 2.2273240322708836, 2.2273239049387374, 2.227323777610955, 2.227323650287525, 2.2273235229684736, 2.227323395653783, 2.227323268343458, 2.2273231410374956, 2.2273230137358966, 2.2273228864386603, 2.227322759145793, 2.227322631857291, 2.227322504573136, 2.2273223772933672, 2.2273222500179544, 2.2273221227469104, 2.227321995480213, 2.2273218682178966, 2.227321740959928, 2.2273216137063288, 2.2273214864570954, 2.2273213592122136, 2.2273212319717026, 2.227321104735549, 2.2273209775037714, 2.2273208502763366, 2.227320723053279, 2.227320595834576, 2.2273204686202264, 2.2273203414102487, 2.2273202142046324, 2.227320087003373, 2.227319959806472, 2.2273198326139365, 2.2273197054257574, 2.2273195782419477, 2.227319451062487, 2.227319323887386, 2.227319196716662, 2.2273190695502865, 2.227318942388264, 2.2273188152306087, 2.2273186880773173, 2.2273185609283708, 2.2273184337837906, 2.227318306643572, 2.2273181795077077, 2.2273180523762024, 2.227317925249065, 2.227317798126273, 2.227317671007844, 2.227317543893771, 2.2273174167840573, 2.2273172896787066, 2.2273171625777035, 2.22731703548107, 2.2273169083887803, 2.227316781300856, 2.2273166542172795, 2.227316527138078, 2.227316400063211, 2.2273162729927196, 2.2273161459265673, 2.227316018864787, 2.2273158918073523, 2.2273157647542763, 2.2273156377055585, 2.2273155106611973, 2.2273153836211868, 2.227315256585533, 2.227315129554234, 2.227315002527285, 2.2273148755047014, 2.227314748486462, 2.2273146214725927, 2.227314494463068, 2.2273143674578915, 2.2273142404570763, 2.227314113460605, 2.227313986468495, 2.2273138594807405, 2.2273137324973415, 2.227313605518292, 2.2273134785435995, 2.227313351573255, 2.2273132246072644, 2.227313097645638, 2.227312970688346, 2.2273128437354117, 2.2273127167868325, 2.227312589842606, 2.22731246290273, 2.2273123359672047, 2.227312209036037, 2.2273120821092096, 2.227311955186743, 2.227311828268627, 2.2273117013548536, 2.2273115744454355, 2.2273114475403775, 2.2273113206396635, 2.2273111937432954, 2.227311066851282, 2.2273109399636155, 2.2273108130803045, 2.2273106862013403, 2.227310559326724, 2.2273104324564628, 2.227310305590535, 2.2273101787289784, 2.22731005187176, 2.227309925018889, 2.2273097981703733, 2.2273096713262004, 2.2273095444863817, 2.2273094176509103, 2.227309290819782, 2.2273091639930036, 2.227309037170575, 2.2273089103524963, 2.227308783538758, 2.227308656729367, 2.2273085299243354, 2.2273084031236485, 2.2273082763272987, 2.2273081495353027, 2.2273080227476463, 2.2273078959643393, 2.227307769185392, 2.2273076424107736, 2.2273075156405078, 2.2273073888745873, 2.2273072621130066, 2.2273071353557827, 2.2273070086029048, 2.2273068818543584, 2.227306755110173, 2.2273066283703273, 2.2273065016348226, 2.2273063749036615, 2.227306248176849, 2.227306121454391, 2.2273059947362635, 2.2273058680224747, 2.2273057413130477, 2.227305614607951, 2.2273054879072074, 2.227305361210804, 2.227305234518741, 2.227305107831011, 2.22730498114765, 2.227304854468623, 2.2273047277939324, 2.227304601123581, 2.2273044744575747, 2.2273043477959162, 2.2273042211385987, 2.2273040944856257, 2.2273039678369875, 2.2273038411926995, 2.22730371455274, 2.2273035879171346, 2.227303461285871, 2.227303334658936, 2.2273032080363517, 2.227303081418106, 2.227302954804198, 2.22730282819464, 2.2273027015894185, 2.22730257498854, 2.2273024483919928, 2.2273023217997863, 2.227302195211924, 2.2273020686284015, 2.2273019420492197, 2.227301815474372, 2.2273016889038733, 2.2273015623377006, 2.2273014357758765, 2.227301309218391, 2.227301182665239, 2.2273010561164277, 2.2273009295719612, 2.2273008030318175, 2.227300676496032, 2.2273005499645713, 2.2273004234374447, 2.227300296914664, 2.227300170396215, 2.227300043882111, 2.227299917372343, 2.2272997908669128, 2.2272996643658156, 2.2272995378690466, 2.227299411376633, 2.2272992848885456, 2.2272991584047976, 2.227299031925375, 2.2272989054503043, 2.227298778979562, 2.227298652513141, 2.2272985260510785, 2.2272983995933453, 2.227298273139938, 2.2272981466908783, 2.2272980202461485, 2.227297893805742, 2.2272977673696936, 2.227297640937965, 2.2272975145105702, 2.2272973880875075, 2.2272972616687885, 2.2272971352544086, 2.2272970088443467, 2.2272968824386172, 2.227296756037233, 2.22729662964018, 2.2272965032474565, 2.227296376859064, 2.2272962504750127, 2.2272961240952838, 2.2272959977198963, 2.2272958713488302, 2.227295744982106, 2.2272956186197117, 2.2272954922616526, 2.22729536590792, 2.227295239558525, 2.2272951132134526, 2.227294986872721, 2.2272948605363183, 2.2272947342042375, 2.227294607876498, 2.227294481553081, 2.2272943552340045, 2.2272942289192454, 2.2272941026088335, 2.2272939763027466, 2.227293850000978, 2.227293723703545, 2.2272935974104477, 2.227293471121686, 2.2272933448372356, 2.227293218557123, 2.2272930922813385, 2.227292966009885, 2.227292839742764, 2.2272927134799687, 2.2272925872215, 2.22729246096736, 2.227292334717543, 2.227292208472058, 2.227292082230904, 2.227291955994071, 2.227291829761581, 2.227291703533402, 2.227291577309564, 2.2272914510900503, 2.227291324874854, 2.2272911986639845, 2.227291072457449, 2.227290946255257, 2.227290820057367, 2.227290693863802, 2.2272905676745665, 2.22729044148967, 2.227290315309092, 2.227290189132831, 2.2272900629609045, 2.2272899367933, 2.2272898106300345, 2.2272896844710717, 2.2272895583164405, 2.2272894321661454, 2.2272893060201726, 2.2272891798785155, 2.2272890537411865, 2.2272889276081846, 2.2272888014795016, 2.227288675355149, 2.2272885492351038, 2.2272884231193997, 2.2272882970080143, 2.2272881709009558, 2.2272880447982186, 2.227287918699806, 2.2272877926057104, 2.227287666515934, 2.2272875404304986, 2.2272874143493677, 2.2272872882725645, 2.227287162200083, 2.2272870361319304, 2.2272869100680848, 2.227286784008577, 2.227286657953381, 2.2272865319025104, 2.2272864058559554, 2.227286279813728, 2.227286153775827, 2.227286027742237, 2.2272859017129787, 2.227285775688025, 2.227285649667401, 2.227285523651087, 2.2272853976391023, 2.2272852716314437, 2.2272851456280915, 2.2272850196290683, 2.2272848936343643, 2.2272847676439715, 2.2272846416578997, 2.227284515676153, 2.227284389698732, 2.227284263725612, 2.227284137756827, 2.2272840117923463, 2.2272838858321933, 2.227283759876354, 2.227283633924834, 2.227283507977634, 2.227283382034748, 2.227283256096182, 2.227283130161934, 2.2272830042320106, 2.227282878306391, 2.2272827523850975, 2.2272826264681163, 2.227282500555438, 2.2272823746471033, 2.2272822487430712, 2.227282122843355, 2.227281996947955, 2.227281871056873, 2.2272817451701057, 2.2272816192876466, 2.2272814934095235, 2.2272813675356993, 2.2272812416661907, 2.227281115801003, 2.227280989940129, 2.227280864083568, 2.2272807382313204, 2.227280612383383, 2.227280486539768, 2.2272803607004716, 2.2272802348654808, 2.227280109034805, 2.227279983208442, 2.2272798573863946, 2.2272797315686663, 2.2272796057552435, 2.227279479946132, 2.227279354141336, 2.227279228340851, 2.2272791025446788, 2.2272789767528227, 2.2272788509652783, 2.2272787251820554, 2.2272785994031343, 2.227278473628529, 2.227278347858227, 2.2272782220922407, 2.2272780963305685, 2.2272779705732026, 2.2272778448201587, 2.2272777190714206, 2.2272775933269844, 2.227277467586864, 2.227277341851062, 2.227277216119563, 2.2272770903923744, 2.227276964669496, 2.227276838950933, 2.2272767132366798, 2.2272765875267266, 2.2272764618210914, 2.2272763361197683, 2.2272762104227497, 2.227276084730044, 2.227275959041631, 2.2272758333575435, 2.2272757076777627, 2.227275582002288, 2.227275456331126, 2.227275330664267, 2.227275205001714, 2.227275079343466, 2.2272749536895406, 2.2272748280399073, 2.227274702394592, 2.227274576753585, 2.2272744511168714, 2.227274325484476, 2.22727419985639, 2.227274074232604, 2.2272739486131266, 2.2272738229979603, 2.2272736973870995, 2.227273571780537, 2.2272734461782937, 2.2272733205803363, 2.227273194986698, 2.2272730693973695, 2.227272943812343, 2.227272818231624, 2.2272726926551925, 2.2272725670830877, 2.2272724415152823, 2.2272723159517662, 2.227272190392569, 2.2272720648376754, 2.227271939287082, 2.2272718137407974, 2.2272716881988144, 2.2272715626611337, 2.22727143712776, 2.2272713115986984, 2.2272711860739247, 2.2272710605534636, 2.2272709350372946, 2.2272708095254288, 2.2272706840178804, 2.2272705585146224, 2.227270433015671, 2.227270307521026, 2.2272701820306793, 2.2272700565446346, 2.22726993106289, 2.22726980558545, 2.2272696801123026, 2.2272695546434695, 2.2272694291789366, 2.227269303718698, 2.2272691782627625, 2.2272690528111307, 2.2272689273638018, 2.2272688019207667, 2.2272686764820295, 2.2272685510476045, 2.2272684256174724, 2.227268300191636, 2.227268174770107, 2.2272680493528814, 2.2272679239399418, 2.2272677985313125, 2.227267673126971, 2.22726754772694, 2.2272674223312086, 2.2272672969397687, 2.227267171552628, 2.2272670461697834, 2.2272669207912457, 2.2272667954169973, 2.227266670047055, 2.227266544681412, 2.227266419320064, 2.2272662939630052, 2.2272661686102486, 2.227266043261798, 2.227265917917639, 2.2272657925777737, 2.2272656672422038, 2.227265541910934, 2.227265416583963, 2.227265291261288, 2.2272651659429066, 2.2272650406288252, 2.227264915319032, 2.227264790013541, 2.2272646647123415, 2.227264539415441, 2.2272644141228373]\n"
          ]
        },
        {
          "output_type": "display_data",
          "data": {
            "text/plain": [
              "<Figure size 1440x720 with 1 Axes>"
            ],
            "image/png": "[encoded data removed]"
          },
          "metadata": {
            "needs_background": "light"
          }
        }
      ]
    },
    {
      "cell_type": "markdown",
      "source": [
        "This trained model is showing vast improvements after it’s full training cycle. We can examine further by inspecting its final predicted coefficients $\\beta_0, \\beta_1$, and $\\beta_2$:"
      ],
      "metadata": {
        "id": "B_MbFMIZBUtO"
      }
    },
    {
      "cell_type": "code",
      "source": [
        "print(f\"Final Coefficients predicted: {GD[1]}\")\n",
        "print(f\"Original Coefficients: {coeffs}\")"
      ],
      "metadata": {
        "colab": {
          "base_uri": "https://localhost:8080/"
        },
        "id": "5AJuExfTQP89",
        "outputId": "32a5a286-5b63-4486-918b-2027b7e1a63f"
      },
      "execution_count": 87,
      "outputs": [
        {
          "output_type": "stream",
          "name": "stdout",
          "text": [
            "Final Coefficients predicted: (0.0053590393435027995, -0.0009804083578652373, 4.499995062632063)\n",
            "Original Coefficients: [0.001, -0.001, 4.5]\n"
          ]
        }
      ]
    },
    {
      "cell_type": "markdown",
      "source": [
        "Not too far off! A big improvement over the initial random model. Looking at the plot of the loss reduction over training offers further insights:"
      ],
      "metadata": {
        "id": "xLrBJuopBcCb"
      }
    },
    {
      "cell_type": "code",
      "source": [
        "plt.figure(figsize=(20,10))\n",
        "plt.plot(GD[3], 'b-', label = 'loss')\n",
        "plt.title('Loss over 1500 iterations')\n",
        "plt.legend(loc=\"lower right\")\n",
        "plt.xlabel('Iterations')\n",
        "plt.ylabel('MSE')\n",
        "plt.show()"
      ],
      "metadata": {
        "colab": {
          "base_uri": "https://localhost:8080/",
          "height": 621
        },
        "id": "cXBqR2SBQTEp",
        "outputId": "e28d7c5b-7b3b-4296-c718-21dc452cd0d1"
      },
      "execution_count": 95,
      "outputs": [
        {
          "output_type": "display_data",
          "data": {
            "text/plain": [
              "<Figure size 1440x720 with 1 Axes>"
            ],
            "image/png": "[encoded data removed]"
          },
          "metadata": {
            "needs_background": "light"
          }
        }
      ]
    },
    {
      "cell_type": "markdown",
      "source": [
        "## Compare with the coefficients obtained using the built-in function\n",
        "Now we revisit the buit-in function to compare the values with the values we got using Gradient Descent.\n"
      ],
      "metadata": {
        "id": "YzK72CzOBjxa"
      }
    },
    {
      "cell_type": "code",
      "source": [
        "coefficients = np.polyfit(Year, Population, deg=2)\n",
        "poly = np.poly1d(coefficients)\n",
        "poly"
      ],
      "metadata": {
        "colab": {
          "base_uri": "https://localhost:8080/"
        },
        "id": "ENvH6_fkAiaf",
        "outputId": "024a12a0-458c-4639-a40f-c41a3b38830c"
      },
      "execution_count": 96,
      "outputs": [
        {
          "output_type": "execute_result",
          "data": {
            "text/plain": [
              "poly1d([ 5.36904762e-03, -8.33333333e-04,  4.45833333e+00])"
            ]
          },
          "metadata": {},
          "execution_count": 96
        }
      ]
    },
    {
      "cell_type": "code",
      "source": [
        "GD[1]"
      ],
      "metadata": {
        "colab": {
          "base_uri": "https://localhost:8080/"
        },
        "id": "Y5mqf4kyB1dX",
        "outputId": "81275cdc-7f59-4f02-9a14-07aea93eacbb"
      },
      "execution_count": 98,
      "outputs": [
        {
          "output_type": "execute_result",
          "data": {
            "text/plain": [
              "(0.0053590393435027995, -0.0009804083578652373, 4.499995062632063)"
            ]
          },
          "metadata": {},
          "execution_count": 98
        }
      ]
    },
    {
      "cell_type": "code",
      "source": [
        "poly-GD[1]"
      ],
      "metadata": {
        "colab": {
          "base_uri": "https://localhost:8080/"
        },
        "id": "6KIprC61B6aE",
        "outputId": "56cabc5a-69e1-4953-d63d-e12f64d95a46"
      },
      "execution_count": 99,
      "outputs": [
        {
          "output_type": "execute_result",
          "data": {
            "text/plain": [
              "poly1d([ 1.00082755e-05,  1.47075025e-04, -4.16617293e-02])"
            ]
          },
          "metadata": {},
          "execution_count": 99
        }
      ]
    },
    {
      "cell_type": "markdown",
      "source": [
        "Very small differences for each parameter!"
      ],
      "metadata": {
        "id": "vl6azzCzCI2z"
      }
    },
    {
      "cell_type": "markdown",
      "source": [
        "## Verify using the analytical solution\n",
        "We can also verify this using the analytical solution because our error function is a linear morel.\n",
        "\n",
        "By substituting the data points into the quadratic polynomial $y=\\beta_0+\\beta_1x+\\beta_2x^2$, we obtain the system of linear equations:\n",
        "\n",
        "\\begin{align*}\n",
        "\\beta_0+0\\beta_1+0\\beta_2&=3929214\\\\\n",
        "\\beta_0+10\\beta_1+10^2\\beta_2&=5308483\\\\\n",
        "\\beta_0+20\\beta_1+20^2\\beta_2&=7239881\\\\\n",
        "\\beta_0+30\\beta_1+30^2\\beta_2&=9638453\\\\\n",
        "\\beta_0+40\\beta_1+40^2\\beta_2&=12866020\\\\\n",
        "\\beta_0+50\\beta_1+50^2\\beta_2&=17069453\\\\\n",
        "\\beta_0+60\\beta_1+60^2\\beta_2&=23191876\\\\\n",
        "\\beta_0+70\\beta_1+70^2\\beta_2&=31443321\\\\\n",
        "\\end{align*}\n",
        "\n",
        "This produces the least squares problem\n",
        " $A\\beta=\\textbf{y}$\n",
        "$$\\begin{bmatrix}\n",
        "1&0&0\\\\\n",
        "1&10&10^2\\\\\n",
        "1&20&20^2\\\\\n",
        "1&30&30^2\\\\\n",
        "1&40&40^2\\\\\n",
        "1&50&50^2\\\\\n",
        "1&60&60^2\\\\\n",
        "1&70&70^2\\\\\n",
        "\\end{bmatrix}\\begin{bmatrix}\\beta_0\\\\\\beta_1\\\\\\beta_2\\end{bmatrix}=\\begin{bmatrix}3.9\\\\5.3\\\\7.2\\\\9.6\\\\12.9\\\\17.1\\\\23.2\\\\31.4\\end{bmatrix}$$\n",
        "\n",
        "Ordinary Least Squares has analytical solution given by:\n",
        "\\begin{align*}\n",
        "A\\beta&=\\textbf{b}\\\\\n",
        "A^TA\\beta&=A^T\\textbf{b}\\\\\n",
        "\\beta&=(A^TA)^{-1}A^T\\textbf{b}\n",
        "\\end{align*}\n"
      ],
      "metadata": {
        "id": "yp6ykkYDCMvC"
      }
    },
    {
      "cell_type": "code",
      "source": [
        "A = np.array([[1,   0,  0],[1, 10, 100], [1, 20, 20**2], [1, 30, 30**2],[1, 40, 40**2],[1, 50, 50**2],[1, 60, 60**2],[1, 70, 70**2]])\n",
        "y = np.array([3.9,5.3,7.2,9.6,12.9,17.1,23.2,31.4])"
      ],
      "metadata": {
        "id": "1WvJnmSRCE2B"
      },
      "execution_count": 120,
      "outputs": []
    },
    {
      "cell_type": "code",
      "source": [
        "A"
      ],
      "metadata": {
        "colab": {
          "base_uri": "https://localhost:8080/"
        },
        "id": "27rRw5pID62e",
        "outputId": "391bc42f-a050-4a14-807e-d85c51aff0c2"
      },
      "execution_count": 121,
      "outputs": [
        {
          "output_type": "execute_result",
          "data": {
            "text/plain": [
              "array([[   1,    0,    0],\n",
              "       [   1,   10,  100],\n",
              "       [   1,   20,  400],\n",
              "       [   1,   30,  900],\n",
              "       [   1,   40, 1600],\n",
              "       [   1,   50, 2500],\n",
              "       [   1,   60, 3600],\n",
              "       [   1,   70, 4900]])"
            ]
          },
          "metadata": {},
          "execution_count": 121
        }
      ]
    },
    {
      "cell_type": "code",
      "source": [
        "A.transpose()"
      ],
      "metadata": {
        "colab": {
          "base_uri": "https://localhost:8080/"
        },
        "id": "m0uTQlMoD7OE",
        "outputId": "0590b265-29a9-4fcc-91b5-c0eee0c3a73c"
      },
      "execution_count": 122,
      "outputs": [
        {
          "output_type": "execute_result",
          "data": {
            "text/plain": [
              "array([[   1,    1,    1,    1,    1,    1,    1,    1],\n",
              "       [   0,   10,   20,   30,   40,   50,   60,   70],\n",
              "       [   0,  100,  400,  900, 1600, 2500, 3600, 4900]])"
            ]
          },
          "metadata": {},
          "execution_count": 122
        }
      ]
    },
    {
      "cell_type": "code",
      "source": [
        "ATA = np.dot(A.transpose(), A)"
      ],
      "metadata": {
        "id": "mDsgnr2dEq7r"
      },
      "execution_count": 124,
      "outputs": []
    },
    {
      "cell_type": "code",
      "source": [
        "ATy =  np.dot(A.transpose(), y)"
      ],
      "metadata": {
        "id": "OJXjMY6RE81U"
      },
      "execution_count": 125,
      "outputs": []
    },
    {
      "cell_type": "code",
      "source": [
        "ATy"
      ],
      "metadata": {
        "colab": {
          "base_uri": "https://localhost:8080/"
        },
        "id": "qfsZ6oMJHQHJ",
        "outputId": "a25b4954-2826-480d-ecf0-de35796a54b8"
      },
      "execution_count": 126,
      "outputs": [
        {
          "output_type": "execute_result",
          "data": {
            "text/plain": [
              "array([1.1060e+02, 5.4460e+03, 3.1282e+05])"
            ]
          },
          "metadata": {},
          "execution_count": 126
        }
      ]
    },
    {
      "cell_type": "code",
      "source": [
        "from numpy.linalg import inv\n",
        "np.dot(inv(ATA),ATy)"
      ],
      "metadata": {
        "colab": {
          "base_uri": "https://localhost:8080/"
        },
        "id": "V8SZtJjeHRC1",
        "outputId": "041502f0-6ce2-4116-b52f-d009c7fbe34d"
      },
      "execution_count": 129,
      "outputs": [
        {
          "output_type": "execute_result",
          "data": {
            "text/plain": [
              "array([ 4.45833333e+00, -8.33333333e-04,  5.36904762e-03])"
            ]
          },
          "metadata": {},
          "execution_count": 129
        }
      ]
    },
    {
      "cell_type": "markdown",
      "source": [
        "Let's summarize the solutions and compare.\n",
        "\n",
        "|Method |$\\beta_0$|$\\beta_0$|$\\beta_0$|\n",
        "--------|---------|---------|---------|\n",
        "|Gradient Descent|4.49999506|-9.80408357e-04|5.35903934350e-03|\n",
        "|Analytical| 4.45833333|-8.33333333e-04|  5.36904762e-03|\n",
        "|Built-in|4.45833333|-8.33333333e-04| 5.36904762e-03|\n",
        "\n",
        "\n",
        "0.0053590393435027995, -0.0009804083578652373, 4.499995062632063"
      ],
      "metadata": {
        "id": "WTvb20orHrCz"
      }
    },
    {
      "cell_type": "code",
      "source": [
        ""
      ],
      "metadata": {
        "id": "HeyUU2hZHaqN"
      },
      "execution_count": null,
      "outputs": []
    }
  ]
}